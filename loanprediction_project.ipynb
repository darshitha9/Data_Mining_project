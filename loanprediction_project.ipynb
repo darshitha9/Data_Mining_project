{
 "cells": [
  {
   "cell_type": "markdown",
   "id": "07bc089a",
   "metadata": {},
   "source": [
    "# Loan Prediction\n"
   ]
  },
  {
   "cell_type": "markdown",
   "id": "cb2d07aa",
   "metadata": {},
   "source": [
    "### Importing Packages"
   ]
  },
  {
   "cell_type": "code",
   "execution_count": 1,
   "id": "6555b094",
   "metadata": {},
   "outputs": [],
   "source": [
    "import numpy as np # for working with arrays.\n",
    "import pandas as pd # for working with data frames (tables).\n",
    "from sklearn import preprocessing\n",
    "from sklearn.tree import DecisionTreeClassifier, DecisionTreeRegressor\n",
    "from sklearn.ensemble import RandomForestClassifier, GradientBoostingClassifier\n",
    "from sklearn.model_selection import train_test_split, cross_val_score, GridSearchCV\n",
    "from sklearn.metrics import accuracy_score\n",
    "from sklearn.neighbors import NearestNeighbors, KNeighborsClassifier\n",
    "from dmba import plotDecisionTree, classificationSummary, regressionSummary\n",
    "from dmba import adjusted_r2_score, AIC_score, BIC_score\n",
    "import seaborn as sns\n",
    "\n",
    "import numpy as np\n",
    "import graphviz\n",
    "import pydotplus\n",
    "\n",
    "import matplotlib.pyplot as plt\n",
    "\n",
    "from pathlib import Path # to interact with file system.\n",
    "from sklearn.metrics import accuracy_score\n",
    "import statsmodels.api as sm\n",
    "from sklearn.linear_model import LinearRegression\n",
    "from dmba import regressionSummary, exhaustive_search\n",
    "from dmba import backward_elimination, forward_selection, stepwise_selection\n",
    "from sklearn.linear_model import LogisticRegression, LogisticRegressionCV\n",
    "from dmba import classificationSummary, gainsChart, liftChart\n",
    "from dmba.metric import AIC_score\n",
    "import dmba\n",
    "from dmba import plotDecisionTree, classificationSummary, regressionSummary\n",
    "\n",
    "%matplotlib inline\n",
    "\n",
    "import warnings\n",
    "warnings.filterwarnings(\"ignore\")"
   ]
  },
  {
   "cell_type": "markdown",
   "id": "02e76f2b",
   "metadata": {},
   "source": [
    "## Importing File"
   ]
  },
  {
   "cell_type": "code",
   "execution_count": 2,
   "id": "ecd65eb7",
   "metadata": {},
   "outputs": [],
   "source": [
    "loan_df = pd.read_csv('datasets/train_loan_prediction.csv')"
   ]
  },
  {
   "cell_type": "code",
   "execution_count": 3,
   "id": "20865a65",
   "metadata": {},
   "outputs": [
    {
     "data": {
      "text/html": [
       "<div>\n",
       "<style scoped>\n",
       "    .dataframe tbody tr th:only-of-type {\n",
       "        vertical-align: middle;\n",
       "    }\n",
       "\n",
       "    .dataframe tbody tr th {\n",
       "        vertical-align: top;\n",
       "    }\n",
       "\n",
       "    .dataframe thead th {\n",
       "        text-align: right;\n",
       "    }\n",
       "</style>\n",
       "<table border=\"1\" class=\"dataframe\">\n",
       "  <thead>\n",
       "    <tr style=\"text-align: right;\">\n",
       "      <th></th>\n",
       "      <th>Loan_ID</th>\n",
       "      <th>Gender</th>\n",
       "      <th>Married</th>\n",
       "      <th>Dependents</th>\n",
       "      <th>Education</th>\n",
       "      <th>Self_Employed</th>\n",
       "      <th>ApplicantIncome</th>\n",
       "      <th>CoapplicantIncome</th>\n",
       "      <th>LoanAmount</th>\n",
       "      <th>Loan_Amount_Term</th>\n",
       "      <th>Credit_History</th>\n",
       "      <th>Property_Area</th>\n",
       "      <th>Loan_Status</th>\n",
       "    </tr>\n",
       "  </thead>\n",
       "  <tbody>\n",
       "    <tr>\n",
       "      <th>0</th>\n",
       "      <td>LP001002</td>\n",
       "      <td>Male</td>\n",
       "      <td>No</td>\n",
       "      <td>0</td>\n",
       "      <td>Graduate</td>\n",
       "      <td>No</td>\n",
       "      <td>5849</td>\n",
       "      <td>0.0</td>\n",
       "      <td>NaN</td>\n",
       "      <td>360.0</td>\n",
       "      <td>1.0</td>\n",
       "      <td>Urban</td>\n",
       "      <td>Y</td>\n",
       "    </tr>\n",
       "    <tr>\n",
       "      <th>1</th>\n",
       "      <td>LP001003</td>\n",
       "      <td>Male</td>\n",
       "      <td>Yes</td>\n",
       "      <td>1</td>\n",
       "      <td>Graduate</td>\n",
       "      <td>No</td>\n",
       "      <td>4583</td>\n",
       "      <td>1508.0</td>\n",
       "      <td>128.0</td>\n",
       "      <td>360.0</td>\n",
       "      <td>1.0</td>\n",
       "      <td>Rural</td>\n",
       "      <td>N</td>\n",
       "    </tr>\n",
       "    <tr>\n",
       "      <th>2</th>\n",
       "      <td>LP001005</td>\n",
       "      <td>Male</td>\n",
       "      <td>Yes</td>\n",
       "      <td>0</td>\n",
       "      <td>Graduate</td>\n",
       "      <td>Yes</td>\n",
       "      <td>3000</td>\n",
       "      <td>0.0</td>\n",
       "      <td>66.0</td>\n",
       "      <td>360.0</td>\n",
       "      <td>1.0</td>\n",
       "      <td>Urban</td>\n",
       "      <td>Y</td>\n",
       "    </tr>\n",
       "    <tr>\n",
       "      <th>3</th>\n",
       "      <td>LP001006</td>\n",
       "      <td>Male</td>\n",
       "      <td>Yes</td>\n",
       "      <td>0</td>\n",
       "      <td>Not Graduate</td>\n",
       "      <td>No</td>\n",
       "      <td>2583</td>\n",
       "      <td>2358.0</td>\n",
       "      <td>120.0</td>\n",
       "      <td>360.0</td>\n",
       "      <td>1.0</td>\n",
       "      <td>Urban</td>\n",
       "      <td>Y</td>\n",
       "    </tr>\n",
       "    <tr>\n",
       "      <th>4</th>\n",
       "      <td>LP001008</td>\n",
       "      <td>Male</td>\n",
       "      <td>No</td>\n",
       "      <td>0</td>\n",
       "      <td>Graduate</td>\n",
       "      <td>No</td>\n",
       "      <td>6000</td>\n",
       "      <td>0.0</td>\n",
       "      <td>141.0</td>\n",
       "      <td>360.0</td>\n",
       "      <td>1.0</td>\n",
       "      <td>Urban</td>\n",
       "      <td>Y</td>\n",
       "    </tr>\n",
       "  </tbody>\n",
       "</table>\n",
       "</div>"
      ],
      "text/plain": [
       "    Loan_ID Gender Married Dependents     Education Self_Employed  \\\n",
       "0  LP001002   Male      No          0      Graduate            No   \n",
       "1  LP001003   Male     Yes          1      Graduate            No   \n",
       "2  LP001005   Male     Yes          0      Graduate           Yes   \n",
       "3  LP001006   Male     Yes          0  Not Graduate            No   \n",
       "4  LP001008   Male      No          0      Graduate            No   \n",
       "\n",
       "   ApplicantIncome  CoapplicantIncome  LoanAmount  Loan_Amount_Term  \\\n",
       "0             5849                0.0         NaN             360.0   \n",
       "1             4583             1508.0       128.0             360.0   \n",
       "2             3000                0.0        66.0             360.0   \n",
       "3             2583             2358.0       120.0             360.0   \n",
       "4             6000                0.0       141.0             360.0   \n",
       "\n",
       "   Credit_History Property_Area Loan_Status  \n",
       "0             1.0         Urban           Y  \n",
       "1             1.0         Rural           N  \n",
       "2             1.0         Urban           Y  \n",
       "3             1.0         Urban           Y  \n",
       "4             1.0         Urban           Y  "
      ]
     },
     "execution_count": 3,
     "metadata": {},
     "output_type": "execute_result"
    }
   ],
   "source": [
    "# Looking at the data first few records\n",
    "loan_df.head()"
   ]
  },
  {
   "cell_type": "code",
   "execution_count": 4,
   "id": "a5883c07",
   "metadata": {},
   "outputs": [
    {
     "name": "stdout",
     "output_type": "stream",
     "text": [
      "<class 'pandas.core.frame.DataFrame'>\n",
      "RangeIndex: 614 entries, 0 to 613\n",
      "Data columns (total 13 columns):\n",
      " #   Column             Non-Null Count  Dtype  \n",
      "---  ------             --------------  -----  \n",
      " 0   Loan_ID            614 non-null    object \n",
      " 1   Gender             601 non-null    object \n",
      " 2   Married            611 non-null    object \n",
      " 3   Dependents         599 non-null    object \n",
      " 4   Education          614 non-null    object \n",
      " 5   Self_Employed      582 non-null    object \n",
      " 6   ApplicantIncome    614 non-null    int64  \n",
      " 7   CoapplicantIncome  614 non-null    float64\n",
      " 8   LoanAmount         592 non-null    float64\n",
      " 9   Loan_Amount_Term   600 non-null    float64\n",
      " 10  Credit_History     564 non-null    float64\n",
      " 11  Property_Area      614 non-null    object \n",
      " 12  Loan_Status        614 non-null    object \n",
      "dtypes: float64(4), int64(1), object(8)\n",
      "memory usage: 62.5+ KB\n"
     ]
    }
   ],
   "source": [
    "# information on the data we have\n",
    "loan_df.info()"
   ]
  },
  {
   "cell_type": "markdown",
   "id": "42da5790",
   "metadata": {},
   "source": [
    "+ Here we have float datatype and object data.\n",
    "+ After getting to know the values look for creating dummies"
   ]
  },
  {
   "cell_type": "code",
   "execution_count": 5,
   "id": "b8454801",
   "metadata": {},
   "outputs": [
    {
     "data": {
      "text/plain": [
       "Loan_ID               0\n",
       "Gender               13\n",
       "Married               3\n",
       "Dependents           15\n",
       "Education             0\n",
       "Self_Employed        32\n",
       "ApplicantIncome       0\n",
       "CoapplicantIncome     0\n",
       "LoanAmount           22\n",
       "Loan_Amount_Term     14\n",
       "Credit_History       50\n",
       "Property_Area         0\n",
       "Loan_Status           0\n",
       "dtype: int64"
      ]
     },
     "execution_count": 5,
     "metadata": {},
     "output_type": "execute_result"
    }
   ],
   "source": [
    "#looking for the null values in the dataset\n",
    "loan_df.isna().sum()"
   ]
  },
  {
   "cell_type": "code",
   "execution_count": 6,
   "id": "525375d1",
   "metadata": {},
   "outputs": [
    {
     "data": {
      "text/html": [
       "<div>\n",
       "<style scoped>\n",
       "    .dataframe tbody tr th:only-of-type {\n",
       "        vertical-align: middle;\n",
       "    }\n",
       "\n",
       "    .dataframe tbody tr th {\n",
       "        vertical-align: top;\n",
       "    }\n",
       "\n",
       "    .dataframe thead th {\n",
       "        text-align: right;\n",
       "    }\n",
       "</style>\n",
       "<table border=\"1\" class=\"dataframe\">\n",
       "  <thead>\n",
       "    <tr style=\"text-align: right;\">\n",
       "      <th></th>\n",
       "      <th>ApplicantIncome</th>\n",
       "      <th>CoapplicantIncome</th>\n",
       "      <th>LoanAmount</th>\n",
       "      <th>Loan_Amount_Term</th>\n",
       "      <th>Credit_History</th>\n",
       "    </tr>\n",
       "  </thead>\n",
       "  <tbody>\n",
       "    <tr>\n",
       "      <th>count</th>\n",
       "      <td>614.000000</td>\n",
       "      <td>614.000000</td>\n",
       "      <td>592.000000</td>\n",
       "      <td>600.00000</td>\n",
       "      <td>564.000000</td>\n",
       "    </tr>\n",
       "    <tr>\n",
       "      <th>mean</th>\n",
       "      <td>5403.459283</td>\n",
       "      <td>1621.245798</td>\n",
       "      <td>146.412162</td>\n",
       "      <td>342.00000</td>\n",
       "      <td>0.842199</td>\n",
       "    </tr>\n",
       "    <tr>\n",
       "      <th>std</th>\n",
       "      <td>6109.041673</td>\n",
       "      <td>2926.248369</td>\n",
       "      <td>85.587325</td>\n",
       "      <td>65.12041</td>\n",
       "      <td>0.364878</td>\n",
       "    </tr>\n",
       "    <tr>\n",
       "      <th>min</th>\n",
       "      <td>150.000000</td>\n",
       "      <td>0.000000</td>\n",
       "      <td>9.000000</td>\n",
       "      <td>12.00000</td>\n",
       "      <td>0.000000</td>\n",
       "    </tr>\n",
       "    <tr>\n",
       "      <th>25%</th>\n",
       "      <td>2877.500000</td>\n",
       "      <td>0.000000</td>\n",
       "      <td>100.000000</td>\n",
       "      <td>360.00000</td>\n",
       "      <td>1.000000</td>\n",
       "    </tr>\n",
       "    <tr>\n",
       "      <th>50%</th>\n",
       "      <td>3812.500000</td>\n",
       "      <td>1188.500000</td>\n",
       "      <td>128.000000</td>\n",
       "      <td>360.00000</td>\n",
       "      <td>1.000000</td>\n",
       "    </tr>\n",
       "    <tr>\n",
       "      <th>75%</th>\n",
       "      <td>5795.000000</td>\n",
       "      <td>2297.250000</td>\n",
       "      <td>168.000000</td>\n",
       "      <td>360.00000</td>\n",
       "      <td>1.000000</td>\n",
       "    </tr>\n",
       "    <tr>\n",
       "      <th>max</th>\n",
       "      <td>81000.000000</td>\n",
       "      <td>41667.000000</td>\n",
       "      <td>700.000000</td>\n",
       "      <td>480.00000</td>\n",
       "      <td>1.000000</td>\n",
       "    </tr>\n",
       "  </tbody>\n",
       "</table>\n",
       "</div>"
      ],
      "text/plain": [
       "       ApplicantIncome  CoapplicantIncome  LoanAmount  Loan_Amount_Term  \\\n",
       "count       614.000000         614.000000  592.000000         600.00000   \n",
       "mean       5403.459283        1621.245798  146.412162         342.00000   \n",
       "std        6109.041673        2926.248369   85.587325          65.12041   \n",
       "min         150.000000           0.000000    9.000000          12.00000   \n",
       "25%        2877.500000           0.000000  100.000000         360.00000   \n",
       "50%        3812.500000        1188.500000  128.000000         360.00000   \n",
       "75%        5795.000000        2297.250000  168.000000         360.00000   \n",
       "max       81000.000000       41667.000000  700.000000         480.00000   \n",
       "\n",
       "       Credit_History  \n",
       "count      564.000000  \n",
       "mean         0.842199  \n",
       "std          0.364878  \n",
       "min          0.000000  \n",
       "25%          1.000000  \n",
       "50%          1.000000  \n",
       "75%          1.000000  \n",
       "max          1.000000  "
      ]
     },
     "execution_count": 6,
     "metadata": {},
     "output_type": "execute_result"
    }
   ],
   "source": [
    "loan_df.describe()"
   ]
  },
  {
   "cell_type": "code",
   "execution_count": 7,
   "id": "e6c8915a",
   "metadata": {},
   "outputs": [],
   "source": [
    "loan_df['Gender'] = [0 if gender==\"Female\" else 1 for gender in loan_df['Gender']]\n",
    "loan_df['Married'] = [0 if married==\"No\" else 1 for married in loan_df['Married']]\n",
    "loan_df['Self_Employed'] = [0 if employ==\"No\" else 1 for employ in loan_df['Self_Employed']]\n",
    "loan_df['Education'] = [0 if edu==\"Graduate\" else 1 for edu in loan_df['Education']]\n",
    "loan_df['Loan_Status'] = [0 if status==\"N\" else 1 for status in loan_df['Loan_Status']]\n",
    "loan_df['Dependents'] = loan_df.Dependents.map({'0':0,'1':1,'2':2,'3+':3})"
   ]
  },
  {
   "cell_type": "code",
   "execution_count": 8,
   "id": "8e482a2e",
   "metadata": {},
   "outputs": [
    {
     "data": {
      "text/html": [
       "<div>\n",
       "<style scoped>\n",
       "    .dataframe tbody tr th:only-of-type {\n",
       "        vertical-align: middle;\n",
       "    }\n",
       "\n",
       "    .dataframe tbody tr th {\n",
       "        vertical-align: top;\n",
       "    }\n",
       "\n",
       "    .dataframe thead th {\n",
       "        text-align: right;\n",
       "    }\n",
       "</style>\n",
       "<table border=\"1\" class=\"dataframe\">\n",
       "  <thead>\n",
       "    <tr style=\"text-align: right;\">\n",
       "      <th></th>\n",
       "      <th>Loan_ID</th>\n",
       "      <th>Gender</th>\n",
       "      <th>Married</th>\n",
       "      <th>Dependents</th>\n",
       "      <th>Education</th>\n",
       "      <th>Self_Employed</th>\n",
       "      <th>ApplicantIncome</th>\n",
       "      <th>CoapplicantIncome</th>\n",
       "      <th>LoanAmount</th>\n",
       "      <th>Loan_Amount_Term</th>\n",
       "      <th>Credit_History</th>\n",
       "      <th>Property_Area</th>\n",
       "      <th>Loan_Status</th>\n",
       "    </tr>\n",
       "  </thead>\n",
       "  <tbody>\n",
       "    <tr>\n",
       "      <th>0</th>\n",
       "      <td>LP001002</td>\n",
       "      <td>1</td>\n",
       "      <td>0</td>\n",
       "      <td>0.0</td>\n",
       "      <td>0</td>\n",
       "      <td>0</td>\n",
       "      <td>5849</td>\n",
       "      <td>0.0</td>\n",
       "      <td>NaN</td>\n",
       "      <td>360.0</td>\n",
       "      <td>1.0</td>\n",
       "      <td>Urban</td>\n",
       "      <td>1</td>\n",
       "    </tr>\n",
       "    <tr>\n",
       "      <th>1</th>\n",
       "      <td>LP001003</td>\n",
       "      <td>1</td>\n",
       "      <td>1</td>\n",
       "      <td>1.0</td>\n",
       "      <td>0</td>\n",
       "      <td>0</td>\n",
       "      <td>4583</td>\n",
       "      <td>1508.0</td>\n",
       "      <td>128.0</td>\n",
       "      <td>360.0</td>\n",
       "      <td>1.0</td>\n",
       "      <td>Rural</td>\n",
       "      <td>0</td>\n",
       "    </tr>\n",
       "    <tr>\n",
       "      <th>2</th>\n",
       "      <td>LP001005</td>\n",
       "      <td>1</td>\n",
       "      <td>1</td>\n",
       "      <td>0.0</td>\n",
       "      <td>0</td>\n",
       "      <td>1</td>\n",
       "      <td>3000</td>\n",
       "      <td>0.0</td>\n",
       "      <td>66.0</td>\n",
       "      <td>360.0</td>\n",
       "      <td>1.0</td>\n",
       "      <td>Urban</td>\n",
       "      <td>1</td>\n",
       "    </tr>\n",
       "    <tr>\n",
       "      <th>3</th>\n",
       "      <td>LP001006</td>\n",
       "      <td>1</td>\n",
       "      <td>1</td>\n",
       "      <td>0.0</td>\n",
       "      <td>1</td>\n",
       "      <td>0</td>\n",
       "      <td>2583</td>\n",
       "      <td>2358.0</td>\n",
       "      <td>120.0</td>\n",
       "      <td>360.0</td>\n",
       "      <td>1.0</td>\n",
       "      <td>Urban</td>\n",
       "      <td>1</td>\n",
       "    </tr>\n",
       "    <tr>\n",
       "      <th>4</th>\n",
       "      <td>LP001008</td>\n",
       "      <td>1</td>\n",
       "      <td>0</td>\n",
       "      <td>0.0</td>\n",
       "      <td>0</td>\n",
       "      <td>0</td>\n",
       "      <td>6000</td>\n",
       "      <td>0.0</td>\n",
       "      <td>141.0</td>\n",
       "      <td>360.0</td>\n",
       "      <td>1.0</td>\n",
       "      <td>Urban</td>\n",
       "      <td>1</td>\n",
       "    </tr>\n",
       "  </tbody>\n",
       "</table>\n",
       "</div>"
      ],
      "text/plain": [
       "    Loan_ID  Gender  Married  Dependents  Education  Self_Employed  \\\n",
       "0  LP001002       1        0         0.0          0              0   \n",
       "1  LP001003       1        1         1.0          0              0   \n",
       "2  LP001005       1        1         0.0          0              1   \n",
       "3  LP001006       1        1         0.0          1              0   \n",
       "4  LP001008       1        0         0.0          0              0   \n",
       "\n",
       "   ApplicantIncome  CoapplicantIncome  LoanAmount  Loan_Amount_Term  \\\n",
       "0             5849                0.0         NaN             360.0   \n",
       "1             4583             1508.0       128.0             360.0   \n",
       "2             3000                0.0        66.0             360.0   \n",
       "3             2583             2358.0       120.0             360.0   \n",
       "4             6000                0.0       141.0             360.0   \n",
       "\n",
       "   Credit_History Property_Area  Loan_Status  \n",
       "0             1.0         Urban            1  \n",
       "1             1.0         Rural            0  \n",
       "2             1.0         Urban            1  \n",
       "3             1.0         Urban            1  \n",
       "4             1.0         Urban            1  "
      ]
     },
     "execution_count": 8,
     "metadata": {},
     "output_type": "execute_result"
    }
   ],
   "source": [
    "#no null values after filling it\n",
    "loan_df.head()"
   ]
  },
  {
   "cell_type": "code",
   "execution_count": 9,
   "id": "46154379",
   "metadata": {},
   "outputs": [
    {
     "data": {
      "text/plain": [
       "Semiurban    233\n",
       "Urban        202\n",
       "Rural        179\n",
       "Name: Property_Area, dtype: int64"
      ]
     },
     "execution_count": 9,
     "metadata": {},
     "output_type": "execute_result"
    }
   ],
   "source": [
    "loan_df.Property_Area.value_counts()"
   ]
  },
  {
   "cell_type": "code",
   "execution_count": 10,
   "id": "aa94cfb0",
   "metadata": {},
   "outputs": [],
   "source": [
    "loan_df.Credit_History.fillna(value=1.0,inplace=True)\n",
    "loan_df.Married.fillna(np.random.randint(0,2),inplace=True)"
   ]
  },
  {
   "cell_type": "code",
   "execution_count": 11,
   "id": "60150d02",
   "metadata": {},
   "outputs": [],
   "source": [
    "loan_df.Dependents.fillna(loan_df.Dependents.median(),inplace=True)\n",
    "loan_df.LoanAmount.fillna(loan_df.LoanAmount.median(),inplace=True)\n",
    "loan_df.Loan_Amount_Term.fillna(loan_df.Loan_Amount_Term.mean(),inplace=True)"
   ]
  },
  {
   "cell_type": "code",
   "execution_count": 12,
   "id": "301cc827",
   "metadata": {},
   "outputs": [
    {
     "data": {
      "text/plain": [
       "Loan_ID              0\n",
       "Gender               0\n",
       "Married              0\n",
       "Dependents           0\n",
       "Education            0\n",
       "Self_Employed        0\n",
       "ApplicantIncome      0\n",
       "CoapplicantIncome    0\n",
       "LoanAmount           0\n",
       "Loan_Amount_Term     0\n",
       "Credit_History       0\n",
       "Property_Area        0\n",
       "Loan_Status          0\n",
       "dtype: int64"
      ]
     },
     "execution_count": 12,
     "metadata": {},
     "output_type": "execute_result"
    }
   ],
   "source": [
    "loan_df.isna().sum()"
   ]
  },
  {
   "cell_type": "code",
   "execution_count": 13,
   "id": "df9f2777",
   "metadata": {},
   "outputs": [
    {
     "data": {
      "text/plain": [
       "Index(['Loan_ID', 'Gender', 'Married', 'Dependents', 'Education',\n",
       "       'Self_Employed', 'ApplicantIncome', 'CoapplicantIncome', 'LoanAmount',\n",
       "       'Loan_Amount_Term', 'Credit_History', 'Property_Area', 'Loan_Status'],\n",
       "      dtype='object')"
      ]
     },
     "execution_count": 13,
     "metadata": {},
     "output_type": "execute_result"
    }
   ],
   "source": [
    "loan_df.columns"
   ]
  },
  {
   "cell_type": "markdown",
   "id": "ec3a70bd",
   "metadata": {},
   "source": [
    "# Data Visualization"
   ]
  },
  {
   "cell_type": "code",
   "execution_count": 14,
   "id": "3136dbd9",
   "metadata": {},
   "outputs": [
    {
     "data": {
      "text/html": [
       "<div>\n",
       "<style scoped>\n",
       "    .dataframe tbody tr th:only-of-type {\n",
       "        vertical-align: middle;\n",
       "    }\n",
       "\n",
       "    .dataframe tbody tr th {\n",
       "        vertical-align: top;\n",
       "    }\n",
       "\n",
       "    .dataframe thead th {\n",
       "        text-align: right;\n",
       "    }\n",
       "</style>\n",
       "<table border=\"1\" class=\"dataframe\">\n",
       "  <thead>\n",
       "    <tr style=\"text-align: right;\">\n",
       "      <th></th>\n",
       "      <th>ApplicantIncome</th>\n",
       "      <th>CoapplicantIncome</th>\n",
       "      <th>LoanAmount</th>\n",
       "      <th>Loan_Amount_Term</th>\n",
       "    </tr>\n",
       "  </thead>\n",
       "  <tbody>\n",
       "    <tr>\n",
       "      <th>count</th>\n",
       "      <td>614.00</td>\n",
       "      <td>614.00</td>\n",
       "      <td>614.00</td>\n",
       "      <td>614.00</td>\n",
       "    </tr>\n",
       "    <tr>\n",
       "      <th>mean</th>\n",
       "      <td>5403.46</td>\n",
       "      <td>1621.25</td>\n",
       "      <td>145.75</td>\n",
       "      <td>342.00</td>\n",
       "    </tr>\n",
       "    <tr>\n",
       "      <th>std</th>\n",
       "      <td>6109.04</td>\n",
       "      <td>2926.25</td>\n",
       "      <td>84.11</td>\n",
       "      <td>64.37</td>\n",
       "    </tr>\n",
       "    <tr>\n",
       "      <th>min</th>\n",
       "      <td>150.00</td>\n",
       "      <td>0.00</td>\n",
       "      <td>9.00</td>\n",
       "      <td>12.00</td>\n",
       "    </tr>\n",
       "    <tr>\n",
       "      <th>25%</th>\n",
       "      <td>2877.50</td>\n",
       "      <td>0.00</td>\n",
       "      <td>100.25</td>\n",
       "      <td>360.00</td>\n",
       "    </tr>\n",
       "    <tr>\n",
       "      <th>50%</th>\n",
       "      <td>3812.50</td>\n",
       "      <td>1188.50</td>\n",
       "      <td>128.00</td>\n",
       "      <td>360.00</td>\n",
       "    </tr>\n",
       "    <tr>\n",
       "      <th>75%</th>\n",
       "      <td>5795.00</td>\n",
       "      <td>2297.25</td>\n",
       "      <td>164.75</td>\n",
       "      <td>360.00</td>\n",
       "    </tr>\n",
       "    <tr>\n",
       "      <th>max</th>\n",
       "      <td>81000.00</td>\n",
       "      <td>41667.00</td>\n",
       "      <td>700.00</td>\n",
       "      <td>480.00</td>\n",
       "    </tr>\n",
       "  </tbody>\n",
       "</table>\n",
       "</div>"
      ],
      "text/plain": [
       "       ApplicantIncome  CoapplicantIncome  LoanAmount  Loan_Amount_Term\n",
       "count           614.00             614.00      614.00            614.00\n",
       "mean           5403.46            1621.25      145.75            342.00\n",
       "std            6109.04            2926.25       84.11             64.37\n",
       "min             150.00               0.00        9.00             12.00\n",
       "25%            2877.50               0.00      100.25            360.00\n",
       "50%            3812.50            1188.50      128.00            360.00\n",
       "75%            5795.00            2297.25      164.75            360.00\n",
       "max           81000.00           41667.00      700.00            480.00"
      ]
     },
     "execution_count": 14,
     "metadata": {},
     "output_type": "execute_result"
    }
   ],
   "source": [
    "num_predictors = ['ApplicantIncome', 'CoapplicantIncome', 'LoanAmount','Loan_Amount_Term']\n",
    "np.round(loan_df[num_predictors].describe(),decimals=2)"
   ]
  },
  {
   "cell_type": "code",
   "execution_count": 15,
   "id": "1dddcccf",
   "metadata": {},
   "outputs": [
    {
     "data": {
      "image/png": "[encoded data removed]",
      "text/plain": [
       "<Figure size 500x500 with 1 Axes>"
      ]
     },
     "metadata": {},
     "output_type": "display_data"
    }
   ],
   "source": [
    "ax = loan_df.groupby('Gender').mean().LoanAmount.plot(kind='bar', figsize=[5, 5])\n",
    "ax.set_ylabel('Avg. Loan Amount')\n",
    "ax.set_xticklabels(ax.get_xticks(), rotation = 0)\n",
    "plt.tight_layout()\n",
    "plt.show()"
   ]
  },
  {
   "cell_type": "code",
   "execution_count": 16,
   "id": "c5da1a14",
   "metadata": {},
   "outputs": [
    {
     "data": {
      "image/png": "[encoded data removed]",
      "text/plain": [
       "<Figure size 500x500 with 1 Axes>"
      ]
     },
     "metadata": {},
     "output_type": "display_data"
    },
    {
     "data": {
      "text/plain": [
       "Credit_History\n",
       "0.0     7.865169\n",
       "1.0    79.047619\n",
       "Name: Loan_Status, dtype: float64"
      ]
     },
     "execution_count": 16,
     "metadata": {},
     "output_type": "execute_result"
    }
   ],
   "source": [
    "dataforplot = loan_df.groupby(['Credit_History']).mean()['Loan_Status']*100\n",
    "ax = dataforplot.plot(kind='bar', figsize=[5, 5])\n",
    "ax.bar(dataforplot.index, dataforplot, color=['C5', 'C1'])\n",
    "ax.set_ylabel('% of Loan Approval')\n",
    "ax.set_xticklabels(ax.get_xticks(), rotation = 0)\n",
    "plt.tight_layout()\n",
    "plt.show()\n",
    "dataforplot"
   ]
  },
  {
   "cell_type": "code",
   "execution_count": 17,
   "id": "4a2bbe3e",
   "metadata": {
    "scrolled": true
   },
   "outputs": [
    {
     "data": {
      "image/png": "[encoded data removed]",
      "text/plain": [
       "<Figure size 300x300 with 1 Axes>"
      ]
     },
     "metadata": {},
     "output_type": "display_data"
    }
   ],
   "source": [
    "ax = loan_df.groupby('Loan_Status').mean().LoanAmount.plot(kind='bar', figsize=[3, 3])\n",
    "ax.set_ylabel('Avg. Loan Amount')\n",
    "ax.set_xticklabels(ax.get_xticks(), rotation = 0)\n",
    "plt.tight_layout()\n",
    "plt.show()"
   ]
  },
  {
   "cell_type": "code",
   "execution_count": 18,
   "id": "ab0df66a",
   "metadata": {},
   "outputs": [
    {
     "data": {
      "image/png": "[encoded data removed]",
      "text/plain": [
       "<Figure size 300x300 with 1 Axes>"
      ]
     },
     "metadata": {},
     "output_type": "display_data"
    }
   ],
   "source": [
    "ax = loan_df.groupby('Loan_Status').mean().CoapplicantIncome.plot(kind='bar', figsize=[3, 3])\n",
    "ax.set_ylabel('Avg. CoApplicantIncome')\n",
    "ax.set_xticklabels(ax.get_xticks(), rotation = 0)\n",
    "plt.tight_layout()\n",
    "plt.show()"
   ]
  },
  {
   "cell_type": "code",
   "execution_count": 19,
   "id": "d333033d",
   "metadata": {},
   "outputs": [
    {
     "data": {
      "image/png": "[encoded data removed]",
      "text/plain": [
       "<Figure size 300x300 with 1 Axes>"
      ]
     },
     "metadata": {},
     "output_type": "display_data"
    }
   ],
   "source": [
    "ax = loan_df.groupby('Loan_Status').mean().ApplicantIncome.plot(kind='bar', figsize=[3, 3])\n",
    "ax.set_ylabel('Avg. ApplicantIncome')\n",
    "ax.set_xticklabels(ax.get_xticks(), rotation = 0)\n",
    "plt.tight_layout()\n",
    "plt.show()"
   ]
  },
  {
   "cell_type": "code",
   "execution_count": 20,
   "id": "3533ef97",
   "metadata": {},
   "outputs": [
    {
     "data": {
      "image/png": "[encoded data removed]",
      "text/plain": [
       "<Figure size 700x300 with 1 Axes>"
      ]
     },
     "metadata": {},
     "output_type": "display_data"
    },
    {
     "data": {
      "text/plain": [
       "Dependents\n",
       "0.0    68.611111\n",
       "1.0    64.705882\n",
       "2.0    75.247525\n",
       "3.0    64.705882\n",
       "Name: Loan_Status, dtype: float64"
      ]
     },
     "execution_count": 20,
     "metadata": {},
     "output_type": "execute_result"
    }
   ],
   "source": [
    "dataplot=loan_df.groupby('Dependents').mean()['Loan_Status']*100\n",
    "ax = dataplot.plot(kind='bar', figsize=[7,3])\n",
    "ax.set_ylabel('% Loan_Status')\n",
    "ax.set_xticklabels(ax.get_xticks(), rotation = 0)\n",
    "plt.tight_layout()\n",
    "plt.show()\n",
    "dataplot"
   ]
  },
  {
   "cell_type": "code",
   "execution_count": 21,
   "id": "384b8f3a",
   "metadata": {},
   "outputs": [
    {
     "data": {
      "image/png": "[encoded data removed]",
      "text/plain": [
       "<Figure size 700x300 with 1 Axes>"
      ]
     },
     "metadata": {},
     "output_type": "display_data"
    }
   ],
   "source": [
    "ax = loan_df.groupby('Dependents').mean().LoanAmount.plot(kind='bar', figsize=[7,3])\n",
    "ax.set_ylabel('Avg. Applicant Income')\n",
    "ax.set_xticklabels(ax.get_xticks(), rotation = 0)\n",
    "plt.tight_layout()\n",
    "plt.show()"
   ]
  },
  {
   "cell_type": "code",
   "execution_count": 22,
   "id": "57a35a52",
   "metadata": {},
   "outputs": [
    {
     "data": {
      "image/png": "[encoded data removed]",
      "text/plain": [
       "<Figure size 700x300 with 1 Axes>"
      ]
     },
     "metadata": {},
     "output_type": "display_data"
    }
   ],
   "source": [
    "ax = loan_df.groupby('Dependents').mean().LoanAmount.plot(kind='bar', figsize=[7,3],color='navy')\n",
    "ax.set_ylabel('Avg. Loan Amount')\n",
    "ax.set_xticklabels(ax.get_xticks(), rotation = 0)\n",
    "plt.tight_layout()\n",
    "plt.show()"
   ]
  },
  {
   "cell_type": "code",
   "execution_count": 23,
   "id": "1fbfd360",
   "metadata": {},
   "outputs": [
    {
     "data": {
      "image/png": "[encoded data removed]",
      "text/plain": [
       "<Figure size 500x500 with 1 Axes>"
      ]
     },
     "metadata": {},
     "output_type": "display_data"
    },
    {
     "data": {
      "text/plain": [
       "Education\n",
       "0    70.833333\n",
       "1    61.194030\n",
       "Name: Loan_Status, dtype: float64"
      ]
     },
     "execution_count": 23,
     "metadata": {},
     "output_type": "execute_result"
    }
   ],
   "source": [
    "dataforplot = loan_df.groupby(['Education']).mean()['Loan_Status']*100\n",
    "ax = dataforplot.plot(kind='bar', figsize=[5, 5])\n",
    "ax.bar(dataforplot.index, dataforplot, color=['C4', 'C7'])\n",
    "ax.set_ylabel('% of Loan Approval')\n",
    "ax.set_xticklabels(ax.get_xticks(), rotation = 0)\n",
    "plt.tight_layout()\n",
    "plt.show()\n",
    "dataforplot"
   ]
  },
  {
   "cell_type": "code",
   "execution_count": 24,
   "id": "eeb4187d",
   "metadata": {},
   "outputs": [
    {
     "data": {
      "image/png": "[encoded data removed]",
      "text/plain": [
       "<Figure size 500x500 with 1 Axes>"
      ]
     },
     "metadata": {},
     "output_type": "display_data"
    },
    {
     "data": {
      "text/plain": [
       "Self_Employed\n",
       "0    68.600000\n",
       "1    69.298246\n",
       "Name: Loan_Status, dtype: float64"
      ]
     },
     "execution_count": 24,
     "metadata": {},
     "output_type": "execute_result"
    }
   ],
   "source": [
    "dataforplot = loan_df.groupby(['Self_Employed']).mean()['Loan_Status']*100\n",
    "ax = dataforplot.plot(kind='bar', figsize=[5, 5])\n",
    "ax.bar(dataforplot.index, dataforplot, color=['C5', 'C1'])\n",
    "ax.set_ylabel('% of Loan Approval')\n",
    "ax.set_xticklabels(ax.get_xticks(), rotation = 0)\n",
    "plt.tight_layout()\n",
    "plt.show()\n",
    "dataforplot"
   ]
  },
  {
   "cell_type": "code",
   "execution_count": 25,
   "id": "8f3db5f8",
   "metadata": {},
   "outputs": [
    {
     "data": {
      "image/png": "[encoded data removed]",
      "text/plain": [
       "<Figure size 640x480 with 1 Axes>"
      ]
     },
     "metadata": {},
     "output_type": "display_data"
    }
   ],
   "source": [
    "sns.barplot(x = 'Loan_Amount_Term',y='LoanAmount',data=loan_df)\n",
    "plt.show()"
   ]
  },
  {
   "cell_type": "code",
   "execution_count": 26,
   "id": "50d2b10f",
   "metadata": {},
   "outputs": [
    {
     "data": {
      "text/html": [
       "<div>\n",
       "<style scoped>\n",
       "    .dataframe tbody tr th:only-of-type {\n",
       "        vertical-align: middle;\n",
       "    }\n",
       "\n",
       "    .dataframe tbody tr th {\n",
       "        vertical-align: top;\n",
       "    }\n",
       "\n",
       "    .dataframe thead th {\n",
       "        text-align: right;\n",
       "    }\n",
       "</style>\n",
       "<table border=\"1\" class=\"dataframe\">\n",
       "  <thead>\n",
       "    <tr style=\"text-align: right;\">\n",
       "      <th></th>\n",
       "      <th>Gender</th>\n",
       "      <th>Married</th>\n",
       "      <th>Dependents</th>\n",
       "      <th>Education</th>\n",
       "      <th>Self_Employed</th>\n",
       "      <th>ApplicantIncome</th>\n",
       "      <th>CoapplicantIncome</th>\n",
       "      <th>LoanAmount</th>\n",
       "      <th>Loan_Amount_Term</th>\n",
       "      <th>Credit_History</th>\n",
       "    </tr>\n",
       "    <tr>\n",
       "      <th>Loan_Status</th>\n",
       "      <th></th>\n",
       "      <th></th>\n",
       "      <th></th>\n",
       "      <th></th>\n",
       "      <th></th>\n",
       "      <th></th>\n",
       "      <th></th>\n",
       "      <th></th>\n",
       "      <th></th>\n",
       "      <th></th>\n",
       "    </tr>\n",
       "  </thead>\n",
       "  <tbody>\n",
       "    <tr>\n",
       "      <th>0</th>\n",
       "      <td>0.807292</td>\n",
       "      <td>0.588542</td>\n",
       "      <td>0.729167</td>\n",
       "      <td>0.270833</td>\n",
       "      <td>0.182292</td>\n",
       "      <td>5446.078125</td>\n",
       "      <td>1877.807292</td>\n",
       "      <td>149.890625</td>\n",
       "      <td>344.000000</td>\n",
       "      <td>0.572917</td>\n",
       "    </tr>\n",
       "    <tr>\n",
       "      <th>1</th>\n",
       "      <td>0.822275</td>\n",
       "      <td>0.682464</td>\n",
       "      <td>0.751185</td>\n",
       "      <td>0.194313</td>\n",
       "      <td>0.187204</td>\n",
       "      <td>5384.068720</td>\n",
       "      <td>1504.516398</td>\n",
       "      <td>143.869668</td>\n",
       "      <td>341.090047</td>\n",
       "      <td>0.983412</td>\n",
       "    </tr>\n",
       "  </tbody>\n",
       "</table>\n",
       "</div>"
      ],
      "text/plain": [
       "               Gender   Married  Dependents  Education  Self_Employed  \\\n",
       "Loan_Status                                                             \n",
       "0            0.807292  0.588542    0.729167   0.270833       0.182292   \n",
       "1            0.822275  0.682464    0.751185   0.194313       0.187204   \n",
       "\n",
       "             ApplicantIncome  CoapplicantIncome  LoanAmount  Loan_Amount_Term  \\\n",
       "Loan_Status                                                                     \n",
       "0                5446.078125        1877.807292  149.890625        344.000000   \n",
       "1                5384.068720        1504.516398  143.869668        341.090047   \n",
       "\n",
       "             Credit_History  \n",
       "Loan_Status                  \n",
       "0                  0.572917  \n",
       "1                  0.983412  "
      ]
     },
     "execution_count": 26,
     "metadata": {},
     "output_type": "execute_result"
    }
   ],
   "source": [
    "loan_df.groupby('Loan_Status').mean()"
   ]
  },
  {
   "cell_type": "code",
   "execution_count": 27,
   "id": "63c3ced8",
   "metadata": {},
   "outputs": [
    {
     "data": {
      "image/png": "[encoded data removed]",
      "text/plain": [
       "<Figure size 640x480 with 1 Axes>"
      ]
     },
     "metadata": {},
     "output_type": "display_data"
    }
   ],
   "source": [
    "ax = loan_df.boxplot(column='LoanAmount', by='Loan_Status')\n",
    "ax.set_ylabel('LoanAmount')\n",
    "plt.suptitle('')  # Suppress the titles\n",
    "plt.title('')\n",
    "\n",
    "plt.show()"
   ]
  },
  {
   "cell_type": "code",
   "execution_count": 28,
   "id": "a030afb3",
   "metadata": {},
   "outputs": [
    {
     "data": {
      "image/png": "[encoded data removed]",
      "text/plain": [
       "<Figure size 640x480 with 1 Axes>"
      ]
     },
     "metadata": {},
     "output_type": "display_data"
    }
   ],
   "source": [
    "ax = loan_df.boxplot(column='ApplicantIncome', by='Loan_Status')\n",
    "ax.set_ylabel('Applicant Income')\n",
    "plt.suptitle('')  # Suppress the titles\n",
    "plt.title('')\n",
    "\n",
    "plt.show()"
   ]
  },
  {
   "cell_type": "code",
   "execution_count": 29,
   "id": "2774528b",
   "metadata": {},
   "outputs": [
    {
     "data": {
      "image/png": "[encoded data removed]",
      "text/plain": [
       "<Figure size 640x480 with 3 Axes>"
      ]
     },
     "metadata": {},
     "output_type": "display_data"
    }
   ],
   "source": [
    "fig, axes = plt.subplots(nrows=1, ncols=3)\n",
    "loan_df.boxplot(column='LoanAmount', by='Loan_Status', ax=axes[0])\n",
    "loan_df.boxplot(column='ApplicantIncome', by='Loan_Status', ax=axes[1])\n",
    "loan_df.boxplot(column='CoapplicantIncome', by='Loan_Status', ax=axes[2])\n",
    "for ax in axes:\n",
    "    ax.set_xlabel('Loan.Status')\n",
    "plt.suptitle('')  # Suppress the overall title\n",
    "plt.tight_layout()  # Increase the separation between the plots\n",
    "\n",
    "plt.show()"
   ]
  },
  {
   "cell_type": "code",
   "execution_count": 30,
   "id": "edad0853",
   "metadata": {},
   "outputs": [
    {
     "data": {
      "text/plain": [
       "<AxesSubplot:>"
      ]
     },
     "execution_count": 30,
     "metadata": {},
     "output_type": "execute_result"
    },
    {
     "data": {
      "image/png": "[encoded data removed]",
      "text/plain": [
       "<Figure size 1100x700 with 2 Axes>"
      ]
     },
     "metadata": {},
     "output_type": "display_data"
    }
   ],
   "source": [
    "corr = loan_df[num_predictors].corr()\n",
    "fig, ax = plt.subplots()\n",
    "fig.set_size_inches(11, 7)\n",
    "sns.heatmap(corr, annot=True, fmt=\".1f\", cmap=\"RdBu\", center=0, ax=ax)"
   ]
  },
  {
   "cell_type": "code",
   "execution_count": 31,
   "id": "338cbf21",
   "metadata": {},
   "outputs": [
    {
     "data": {
      "image/png": "[encoded data removed]",
      "text/plain": [
       "<Figure size 640x480 with 1 Axes>"
      ]
     },
     "metadata": {},
     "output_type": "display_data"
    }
   ],
   "source": [
    "sns.scatterplot(x = 'ApplicantIncome', y = 'LoanAmount', data=loan_df)\n",
    "plt.show()"
   ]
  },
  {
   "cell_type": "markdown",
   "id": "3dd01614",
   "metadata": {},
   "source": [
    "# MODEL BUILDING"
   ]
  },
  {
   "cell_type": "markdown",
   "id": "c7211111",
   "metadata": {},
   "source": [
    "## KNN classification"
   ]
  },
  {
   "cell_type": "code",
   "execution_count": 32,
   "id": "f9cbb76d",
   "metadata": {},
   "outputs": [
    {
     "data": {
      "text/html": [
       "<div>\n",
       "<style scoped>\n",
       "    .dataframe tbody tr th:only-of-type {\n",
       "        vertical-align: middle;\n",
       "    }\n",
       "\n",
       "    .dataframe tbody tr th {\n",
       "        vertical-align: top;\n",
       "    }\n",
       "\n",
       "    .dataframe thead th {\n",
       "        text-align: right;\n",
       "    }\n",
       "</style>\n",
       "<table border=\"1\" class=\"dataframe\">\n",
       "  <thead>\n",
       "    <tr style=\"text-align: right;\">\n",
       "      <th></th>\n",
       "      <th>Gender</th>\n",
       "      <th>Married</th>\n",
       "      <th>Dependents</th>\n",
       "      <th>Education</th>\n",
       "      <th>Self_Employed</th>\n",
       "      <th>ApplicantIncome</th>\n",
       "      <th>CoapplicantIncome</th>\n",
       "      <th>LoanAmount</th>\n",
       "      <th>Loan_Amount_Term</th>\n",
       "      <th>Credit_History</th>\n",
       "      <th>Property_Area</th>\n",
       "      <th>Loan_Status</th>\n",
       "    </tr>\n",
       "  </thead>\n",
       "  <tbody>\n",
       "    <tr>\n",
       "      <th>0</th>\n",
       "      <td>1</td>\n",
       "      <td>0</td>\n",
       "      <td>0.0</td>\n",
       "      <td>0</td>\n",
       "      <td>0</td>\n",
       "      <td>5849</td>\n",
       "      <td>0.0</td>\n",
       "      <td>128.0</td>\n",
       "      <td>360.0</td>\n",
       "      <td>1.0</td>\n",
       "      <td>Urban</td>\n",
       "      <td>1</td>\n",
       "    </tr>\n",
       "    <tr>\n",
       "      <th>1</th>\n",
       "      <td>1</td>\n",
       "      <td>1</td>\n",
       "      <td>1.0</td>\n",
       "      <td>0</td>\n",
       "      <td>0</td>\n",
       "      <td>4583</td>\n",
       "      <td>1508.0</td>\n",
       "      <td>128.0</td>\n",
       "      <td>360.0</td>\n",
       "      <td>1.0</td>\n",
       "      <td>Rural</td>\n",
       "      <td>0</td>\n",
       "    </tr>\n",
       "    <tr>\n",
       "      <th>2</th>\n",
       "      <td>1</td>\n",
       "      <td>1</td>\n",
       "      <td>0.0</td>\n",
       "      <td>0</td>\n",
       "      <td>1</td>\n",
       "      <td>3000</td>\n",
       "      <td>0.0</td>\n",
       "      <td>66.0</td>\n",
       "      <td>360.0</td>\n",
       "      <td>1.0</td>\n",
       "      <td>Urban</td>\n",
       "      <td>1</td>\n",
       "    </tr>\n",
       "    <tr>\n",
       "      <th>3</th>\n",
       "      <td>1</td>\n",
       "      <td>1</td>\n",
       "      <td>0.0</td>\n",
       "      <td>1</td>\n",
       "      <td>0</td>\n",
       "      <td>2583</td>\n",
       "      <td>2358.0</td>\n",
       "      <td>120.0</td>\n",
       "      <td>360.0</td>\n",
       "      <td>1.0</td>\n",
       "      <td>Urban</td>\n",
       "      <td>1</td>\n",
       "    </tr>\n",
       "    <tr>\n",
       "      <th>4</th>\n",
       "      <td>1</td>\n",
       "      <td>0</td>\n",
       "      <td>0.0</td>\n",
       "      <td>0</td>\n",
       "      <td>0</td>\n",
       "      <td>6000</td>\n",
       "      <td>0.0</td>\n",
       "      <td>141.0</td>\n",
       "      <td>360.0</td>\n",
       "      <td>1.0</td>\n",
       "      <td>Urban</td>\n",
       "      <td>1</td>\n",
       "    </tr>\n",
       "  </tbody>\n",
       "</table>\n",
       "</div>"
      ],
      "text/plain": [
       "   Gender  Married  Dependents  Education  Self_Employed  ApplicantIncome  \\\n",
       "0       1        0         0.0          0              0             5849   \n",
       "1       1        1         1.0          0              0             4583   \n",
       "2       1        1         0.0          0              1             3000   \n",
       "3       1        1         0.0          1              0             2583   \n",
       "4       1        0         0.0          0              0             6000   \n",
       "\n",
       "   CoapplicantIncome  LoanAmount  Loan_Amount_Term  Credit_History  \\\n",
       "0                0.0       128.0             360.0             1.0   \n",
       "1             1508.0       128.0             360.0             1.0   \n",
       "2                0.0        66.0             360.0             1.0   \n",
       "3             2358.0       120.0             360.0             1.0   \n",
       "4                0.0       141.0             360.0             1.0   \n",
       "\n",
       "  Property_Area  Loan_Status  \n",
       "0         Urban            1  \n",
       "1         Rural            0  \n",
       "2         Urban            1  \n",
       "3         Urban            1  \n",
       "4         Urban            1  "
      ]
     },
     "execution_count": 32,
     "metadata": {},
     "output_type": "execute_result"
    }
   ],
   "source": [
    "loan_df_knn=loan_df.drop(columns=['Loan_ID'])\n",
    "loan_df_knn.head()"
   ]
  },
  {
   "cell_type": "code",
   "execution_count": 33,
   "id": "54081660",
   "metadata": {},
   "outputs": [
    {
     "name": "stdout",
     "output_type": "stream",
     "text": [
      "<class 'pandas.core.frame.DataFrame'>\n",
      "RangeIndex: 614 entries, 0 to 613\n",
      "Data columns (total 12 columns):\n",
      " #   Column             Non-Null Count  Dtype  \n",
      "---  ------             --------------  -----  \n",
      " 0   Gender             614 non-null    int64  \n",
      " 1   Married            614 non-null    int64  \n",
      " 2   Dependents         614 non-null    float64\n",
      " 3   Education          614 non-null    int64  \n",
      " 4   Self_Employed      614 non-null    int64  \n",
      " 5   ApplicantIncome    614 non-null    int64  \n",
      " 6   CoapplicantIncome  614 non-null    float64\n",
      " 7   LoanAmount         614 non-null    float64\n",
      " 8   Loan_Amount_Term   614 non-null    float64\n",
      " 9   Credit_History     614 non-null    float64\n",
      " 10  Property_Area      614 non-null    object \n",
      " 11  Loan_Status        614 non-null    int64  \n",
      "dtypes: float64(5), int64(6), object(1)\n",
      "memory usage: 57.7+ KB\n"
     ]
    }
   ],
   "source": [
    "loan_df_knn.info()"
   ]
  },
  {
   "cell_type": "code",
   "execution_count": 34,
   "id": "9198127f",
   "metadata": {},
   "outputs": [],
   "source": [
    "loan_df_knn['Property_Area'] = loan_df_knn['Property_Area'].astype('category')"
   ]
  },
  {
   "cell_type": "code",
   "execution_count": 35,
   "id": "e49c668f",
   "metadata": {},
   "outputs": [],
   "source": [
    "# creating dummies for the above dataset\n",
    "loan_df_knn = pd.get_dummies(loan_df_knn,prefix_sep = '_',drop_first=True)"
   ]
  },
  {
   "cell_type": "code",
   "execution_count": 36,
   "id": "9893a8a0",
   "metadata": {},
   "outputs": [
    {
     "data": {
      "text/html": [
       "<div>\n",
       "<style scoped>\n",
       "    .dataframe tbody tr th:only-of-type {\n",
       "        vertical-align: middle;\n",
       "    }\n",
       "\n",
       "    .dataframe tbody tr th {\n",
       "        vertical-align: top;\n",
       "    }\n",
       "\n",
       "    .dataframe thead th {\n",
       "        text-align: right;\n",
       "    }\n",
       "</style>\n",
       "<table border=\"1\" class=\"dataframe\">\n",
       "  <thead>\n",
       "    <tr style=\"text-align: right;\">\n",
       "      <th></th>\n",
       "      <th>ApplicantIncome</th>\n",
       "      <th>CoapplicantIncome</th>\n",
       "      <th>LoanAmount</th>\n",
       "      <th>Loan_Amount_Term</th>\n",
       "    </tr>\n",
       "  </thead>\n",
       "  <tbody>\n",
       "    <tr>\n",
       "      <th>count</th>\n",
       "      <td>614.000000</td>\n",
       "      <td>614.000000</td>\n",
       "      <td>614.000000</td>\n",
       "      <td>614.000000</td>\n",
       "    </tr>\n",
       "    <tr>\n",
       "      <th>mean</th>\n",
       "      <td>5403.459283</td>\n",
       "      <td>1621.245798</td>\n",
       "      <td>145.752443</td>\n",
       "      <td>342.000000</td>\n",
       "    </tr>\n",
       "    <tr>\n",
       "      <th>std</th>\n",
       "      <td>6109.041673</td>\n",
       "      <td>2926.248369</td>\n",
       "      <td>84.107233</td>\n",
       "      <td>64.372489</td>\n",
       "    </tr>\n",
       "    <tr>\n",
       "      <th>min</th>\n",
       "      <td>150.000000</td>\n",
       "      <td>0.000000</td>\n",
       "      <td>9.000000</td>\n",
       "      <td>12.000000</td>\n",
       "    </tr>\n",
       "    <tr>\n",
       "      <th>25%</th>\n",
       "      <td>2877.500000</td>\n",
       "      <td>0.000000</td>\n",
       "      <td>100.250000</td>\n",
       "      <td>360.000000</td>\n",
       "    </tr>\n",
       "    <tr>\n",
       "      <th>50%</th>\n",
       "      <td>3812.500000</td>\n",
       "      <td>1188.500000</td>\n",
       "      <td>128.000000</td>\n",
       "      <td>360.000000</td>\n",
       "    </tr>\n",
       "    <tr>\n",
       "      <th>75%</th>\n",
       "      <td>5795.000000</td>\n",
       "      <td>2297.250000</td>\n",
       "      <td>164.750000</td>\n",
       "      <td>360.000000</td>\n",
       "    </tr>\n",
       "    <tr>\n",
       "      <th>max</th>\n",
       "      <td>81000.000000</td>\n",
       "      <td>41667.000000</td>\n",
       "      <td>700.000000</td>\n",
       "      <td>480.000000</td>\n",
       "    </tr>\n",
       "  </tbody>\n",
       "</table>\n",
       "</div>"
      ],
      "text/plain": [
       "       ApplicantIncome  CoapplicantIncome  LoanAmount  Loan_Amount_Term\n",
       "count       614.000000         614.000000  614.000000        614.000000\n",
       "mean       5403.459283        1621.245798  145.752443        342.000000\n",
       "std        6109.041673        2926.248369   84.107233         64.372489\n",
       "min         150.000000           0.000000    9.000000         12.000000\n",
       "25%        2877.500000           0.000000  100.250000        360.000000\n",
       "50%        3812.500000        1188.500000  128.000000        360.000000\n",
       "75%        5795.000000        2297.250000  164.750000        360.000000\n",
       "max       81000.000000       41667.000000  700.000000        480.000000"
      ]
     },
     "execution_count": 36,
     "metadata": {},
     "output_type": "execute_result"
    }
   ],
   "source": [
    "numerical_predictors = loan_df[['ApplicantIncome','CoapplicantIncome','LoanAmount','Loan_Amount_Term']]\n",
    "numerical_predictors.describe()"
   ]
  },
  {
   "cell_type": "code",
   "execution_count": 37,
   "id": "dd867e1b",
   "metadata": {},
   "outputs": [
    {
     "name": "stdout",
     "output_type": "stream",
     "text": [
      "(491, 13)\n",
      "(123, 13)\n"
     ]
    }
   ],
   "source": [
    "# partioning the data into training data and validation data\n",
    "trainData,validData = train_test_split(loan_df_knn,test_size=0.2,random_state=1)\n",
    "print(trainData.shape)\n",
    "print(validData.shape)"
   ]
  },
  {
   "cell_type": "code",
   "execution_count": 38,
   "id": "563189d5",
   "metadata": {},
   "outputs": [
    {
     "data": {
      "text/html": [
       "<div>\n",
       "<style scoped>\n",
       "    .dataframe tbody tr th:only-of-type {\n",
       "        vertical-align: middle;\n",
       "    }\n",
       "\n",
       "    .dataframe tbody tr th {\n",
       "        vertical-align: top;\n",
       "    }\n",
       "\n",
       "    .dataframe thead th {\n",
       "        text-align: right;\n",
       "    }\n",
       "</style>\n",
       "<table border=\"1\" class=\"dataframe\">\n",
       "  <thead>\n",
       "    <tr style=\"text-align: right;\">\n",
       "      <th></th>\n",
       "      <th>Gender</th>\n",
       "      <th>Married</th>\n",
       "      <th>Dependents</th>\n",
       "      <th>Education</th>\n",
       "      <th>Self_Employed</th>\n",
       "      <th>ApplicantIncome</th>\n",
       "      <th>CoapplicantIncome</th>\n",
       "      <th>LoanAmount</th>\n",
       "      <th>Loan_Amount_Term</th>\n",
       "      <th>Credit_History</th>\n",
       "      <th>Loan_Status</th>\n",
       "      <th>Property_Area_Semiurban</th>\n",
       "      <th>Property_Area_Urban</th>\n",
       "    </tr>\n",
       "  </thead>\n",
       "  <tbody>\n",
       "    <tr>\n",
       "      <th>0</th>\n",
       "      <td>1</td>\n",
       "      <td>0</td>\n",
       "      <td>0.0</td>\n",
       "      <td>0</td>\n",
       "      <td>0</td>\n",
       "      <td>5849</td>\n",
       "      <td>0.0</td>\n",
       "      <td>128.0</td>\n",
       "      <td>360.0</td>\n",
       "      <td>1.0</td>\n",
       "      <td>1</td>\n",
       "      <td>0</td>\n",
       "      <td>1</td>\n",
       "    </tr>\n",
       "    <tr>\n",
       "      <th>1</th>\n",
       "      <td>1</td>\n",
       "      <td>1</td>\n",
       "      <td>1.0</td>\n",
       "      <td>0</td>\n",
       "      <td>0</td>\n",
       "      <td>4583</td>\n",
       "      <td>1508.0</td>\n",
       "      <td>128.0</td>\n",
       "      <td>360.0</td>\n",
       "      <td>1.0</td>\n",
       "      <td>0</td>\n",
       "      <td>0</td>\n",
       "      <td>0</td>\n",
       "    </tr>\n",
       "    <tr>\n",
       "      <th>2</th>\n",
       "      <td>1</td>\n",
       "      <td>1</td>\n",
       "      <td>0.0</td>\n",
       "      <td>0</td>\n",
       "      <td>1</td>\n",
       "      <td>3000</td>\n",
       "      <td>0.0</td>\n",
       "      <td>66.0</td>\n",
       "      <td>360.0</td>\n",
       "      <td>1.0</td>\n",
       "      <td>1</td>\n",
       "      <td>0</td>\n",
       "      <td>1</td>\n",
       "    </tr>\n",
       "    <tr>\n",
       "      <th>3</th>\n",
       "      <td>1</td>\n",
       "      <td>1</td>\n",
       "      <td>0.0</td>\n",
       "      <td>1</td>\n",
       "      <td>0</td>\n",
       "      <td>2583</td>\n",
       "      <td>2358.0</td>\n",
       "      <td>120.0</td>\n",
       "      <td>360.0</td>\n",
       "      <td>1.0</td>\n",
       "      <td>1</td>\n",
       "      <td>0</td>\n",
       "      <td>1</td>\n",
       "    </tr>\n",
       "    <tr>\n",
       "      <th>4</th>\n",
       "      <td>1</td>\n",
       "      <td>0</td>\n",
       "      <td>0.0</td>\n",
       "      <td>0</td>\n",
       "      <td>0</td>\n",
       "      <td>6000</td>\n",
       "      <td>0.0</td>\n",
       "      <td>141.0</td>\n",
       "      <td>360.0</td>\n",
       "      <td>1.0</td>\n",
       "      <td>1</td>\n",
       "      <td>0</td>\n",
       "      <td>1</td>\n",
       "    </tr>\n",
       "  </tbody>\n",
       "</table>\n",
       "</div>"
      ],
      "text/plain": [
       "   Gender  Married  Dependents  Education  Self_Employed  ApplicantIncome  \\\n",
       "0       1        0         0.0          0              0             5849   \n",
       "1       1        1         1.0          0              0             4583   \n",
       "2       1        1         0.0          0              1             3000   \n",
       "3       1        1         0.0          1              0             2583   \n",
       "4       1        0         0.0          0              0             6000   \n",
       "\n",
       "   CoapplicantIncome  LoanAmount  Loan_Amount_Term  Credit_History  \\\n",
       "0                0.0       128.0             360.0             1.0   \n",
       "1             1508.0       128.0             360.0             1.0   \n",
       "2                0.0        66.0             360.0             1.0   \n",
       "3             2358.0       120.0             360.0             1.0   \n",
       "4                0.0       141.0             360.0             1.0   \n",
       "\n",
       "   Loan_Status  Property_Area_Semiurban  Property_Area_Urban  \n",
       "0            1                        0                    1  \n",
       "1            0                        0                    0  \n",
       "2            1                        0                    1  \n",
       "3            1                        0                    1  \n",
       "4            1                        0                    1  "
      ]
     },
     "execution_count": 38,
     "metadata": {},
     "output_type": "execute_result"
    }
   ],
   "source": [
    "loan_df_knn.head()"
   ]
  },
  {
   "cell_type": "code",
   "execution_count": 39,
   "id": "21df4029",
   "metadata": {},
   "outputs": [
    {
     "data": {
      "text/plain": [
       "Gender                       int64\n",
       "Married                      int64\n",
       "Dependents                 float64\n",
       "Education                    int64\n",
       "Self_Employed                int64\n",
       "ApplicantIncome              int64\n",
       "CoapplicantIncome          float64\n",
       "LoanAmount                 float64\n",
       "Loan_Amount_Term           float64\n",
       "Credit_History             float64\n",
       "Loan_Status                  int64\n",
       "Property_Area_Semiurban      uint8\n",
       "Property_Area_Urban          uint8\n",
       "dtype: object"
      ]
     },
     "execution_count": 39,
     "metadata": {},
     "output_type": "execute_result"
    }
   ],
   "source": [
    "loan_df_knn.dtypes"
   ]
  },
  {
   "cell_type": "code",
   "execution_count": 40,
   "id": "fe224483",
   "metadata": {},
   "outputs": [
    {
     "data": {
      "text/plain": [
       "Index(['ApplicantIncome', 'CoapplicantIncome', 'LoanAmount',\n",
       "       'Loan_Amount_Term', 'Credit_History'],\n",
       "      dtype='object')"
      ]
     },
     "execution_count": 40,
     "metadata": {},
     "output_type": "execute_result"
    }
   ],
   "source": [
    "# introducing new data\n",
    "\n",
    "new_entry = pd.DataFrame([{'ApplicantIncome':5720,'CoapplicantIncome':0.0,'LoanAmount':1100.0,'Loan_Amount_Term':360.0,\n",
    "                           'Credit_History':1}])\n",
    "new_entry.columns"
   ]
  },
  {
   "cell_type": "code",
   "execution_count": 41,
   "id": "3a8cc77d",
   "metadata": {},
   "outputs": [],
   "source": [
    "# Normalizing Training Data and Validation Data\n",
    "\n",
    "scaler = preprocessing.StandardScaler()\n",
    "scaler.fit(trainData[['ApplicantIncome', 'CoapplicantIncome', 'LoanAmount',\n",
    "       'Loan_Amount_Term', 'Credit_History']])  # Note the use of an array of column names\n",
    "\n",
    "# Transform the full dataset\n",
    "loanNorm = pd.concat([pd.DataFrame(scaler.transform(loan_df_knn[['ApplicantIncome', 'CoapplicantIncome', 'LoanAmount',\n",
    "       'Loan_Amount_Term', 'Credit_History']]), \n",
    "                                    columns=['zApplicantIncome', 'zCoapplicantIncome', 'zLoanAmount',\n",
    "       'zLoan_Amount_Term', 'zCredit_History']),\n",
    "                       loan_df_knn[['Loan_Status']]], axis=1)\n",
    "trainNorm = loanNorm.iloc[trainData.index]\n",
    "#Similarly, get the valid one as well\n",
    "validNorm = loanNorm.iloc[validData.index]\n",
    "#Scale the new data\n",
    "newEntryNorm = pd.DataFrame(scaler.transform(new_entry[['ApplicantIncome', 'CoapplicantIncome', 'LoanAmount',\n",
    "       'Loan_Amount_Term', 'Credit_History']]),\n",
    "                               columns=['zApplicantIncome', 'zCoapplicantIncome', 'zLoanAmount',\n",
    "       'zLoan_Amount_Term', 'zCredit_History'])"
   ]
  },
  {
   "cell_type": "code",
   "execution_count": 42,
   "id": "2d6276c9",
   "metadata": {},
   "outputs": [
    {
     "data": {
      "text/html": [
       "<div>\n",
       "<style scoped>\n",
       "    .dataframe tbody tr th:only-of-type {\n",
       "        vertical-align: middle;\n",
       "    }\n",
       "\n",
       "    .dataframe tbody tr th {\n",
       "        vertical-align: top;\n",
       "    }\n",
       "\n",
       "    .dataframe thead th {\n",
       "        text-align: right;\n",
       "    }\n",
       "</style>\n",
       "<table border=\"1\" class=\"dataframe\">\n",
       "  <thead>\n",
       "    <tr style=\"text-align: right;\">\n",
       "      <th></th>\n",
       "      <th>zApplicantIncome</th>\n",
       "      <th>zCoapplicantIncome</th>\n",
       "      <th>zLoanAmount</th>\n",
       "      <th>zLoan_Amount_Term</th>\n",
       "      <th>zCredit_History</th>\n",
       "      <th>Loan_Status</th>\n",
       "    </tr>\n",
       "  </thead>\n",
       "  <tbody>\n",
       "    <tr>\n",
       "      <th>291</th>\n",
       "      <td>-0.175046</td>\n",
       "      <td>-0.521156</td>\n",
       "      <td>-0.232735</td>\n",
       "      <td>0.296929</td>\n",
       "      <td>-2.412352</td>\n",
       "      <td>0</td>\n",
       "    </tr>\n",
       "    <tr>\n",
       "      <th>507</th>\n",
       "      <td>-0.301461</td>\n",
       "      <td>-0.521156</td>\n",
       "      <td>-0.580854</td>\n",
       "      <td>0.296929</td>\n",
       "      <td>0.414533</td>\n",
       "      <td>0</td>\n",
       "    </tr>\n",
       "    <tr>\n",
       "      <th>328</th>\n",
       "      <td>-0.185413</td>\n",
       "      <td>0.285209</td>\n",
       "      <td>-0.423639</td>\n",
       "      <td>0.296929</td>\n",
       "      <td>0.414533</td>\n",
       "      <td>0</td>\n",
       "    </tr>\n",
       "    <tr>\n",
       "      <th>609</th>\n",
       "      <td>-0.407143</td>\n",
       "      <td>-0.521156</td>\n",
       "      <td>-0.861595</td>\n",
       "      <td>0.296929</td>\n",
       "      <td>0.414533</td>\n",
       "      <td>1</td>\n",
       "    </tr>\n",
       "    <tr>\n",
       "      <th>69</th>\n",
       "      <td>-0.190519</td>\n",
       "      <td>-0.521156</td>\n",
       "      <td>-0.131668</td>\n",
       "      <td>0.296929</td>\n",
       "      <td>-2.412352</td>\n",
       "      <td>0</td>\n",
       "    </tr>\n",
       "  </tbody>\n",
       "</table>\n",
       "</div>"
      ],
      "text/plain": [
       "     zApplicantIncome  zCoapplicantIncome  zLoanAmount  zLoan_Amount_Term  \\\n",
       "291         -0.175046           -0.521156    -0.232735           0.296929   \n",
       "507         -0.301461           -0.521156    -0.580854           0.296929   \n",
       "328         -0.185413            0.285209    -0.423639           0.296929   \n",
       "609         -0.407143           -0.521156    -0.861595           0.296929   \n",
       "69          -0.190519           -0.521156    -0.131668           0.296929   \n",
       "\n",
       "     zCredit_History  Loan_Status  \n",
       "291        -2.412352            0  \n",
       "507         0.414533            0  \n",
       "328         0.414533            0  \n",
       "609         0.414533            1  \n",
       "69         -2.412352            0  "
      ]
     },
     "execution_count": 42,
     "metadata": {},
     "output_type": "execute_result"
    }
   ],
   "source": [
    "trainNorm.head()"
   ]
  },
  {
   "cell_type": "code",
   "execution_count": 43,
   "id": "9ceb6f1c",
   "metadata": {},
   "outputs": [
    {
     "data": {
      "text/html": [
       "<div>\n",
       "<style scoped>\n",
       "    .dataframe tbody tr th:only-of-type {\n",
       "        vertical-align: middle;\n",
       "    }\n",
       "\n",
       "    .dataframe tbody tr th {\n",
       "        vertical-align: top;\n",
       "    }\n",
       "\n",
       "    .dataframe thead th {\n",
       "        text-align: right;\n",
       "    }\n",
       "</style>\n",
       "<table border=\"1\" class=\"dataframe\">\n",
       "  <thead>\n",
       "    <tr style=\"text-align: right;\">\n",
       "      <th></th>\n",
       "      <th>zApplicantIncome</th>\n",
       "      <th>zCoapplicantIncome</th>\n",
       "      <th>zLoanAmount</th>\n",
       "      <th>zLoan_Amount_Term</th>\n",
       "      <th>zCredit_History</th>\n",
       "      <th>Loan_Status</th>\n",
       "    </tr>\n",
       "  </thead>\n",
       "  <tbody>\n",
       "    <tr>\n",
       "      <th>533</th>\n",
       "      <td>0.884861</td>\n",
       "      <td>-0.521156</td>\n",
       "      <td>0.542111</td>\n",
       "      <td>0.296929</td>\n",
       "      <td>0.414533</td>\n",
       "      <td>0</td>\n",
       "    </tr>\n",
       "    <tr>\n",
       "      <th>544</th>\n",
       "      <td>-0.389039</td>\n",
       "      <td>-0.303033</td>\n",
       "      <td>-0.513476</td>\n",
       "      <td>0.296929</td>\n",
       "      <td>0.414533</td>\n",
       "      <td>1</td>\n",
       "    </tr>\n",
       "    <tr>\n",
       "      <th>41</th>\n",
       "      <td>-0.577347</td>\n",
       "      <td>-0.122086</td>\n",
       "      <td>-1.131107</td>\n",
       "      <td>0.296929</td>\n",
       "      <td>0.414533</td>\n",
       "      <td>1</td>\n",
       "    </tr>\n",
       "    <tr>\n",
       "      <th>148</th>\n",
       "      <td>0.691448</td>\n",
       "      <td>0.026948</td>\n",
       "      <td>0.867771</td>\n",
       "      <td>0.296929</td>\n",
       "      <td>0.414533</td>\n",
       "      <td>0</td>\n",
       "    </tr>\n",
       "    <tr>\n",
       "      <th>111</th>\n",
       "      <td>-0.402655</td>\n",
       "      <td>0.246387</td>\n",
       "      <td>-0.097979</td>\n",
       "      <td>0.296929</td>\n",
       "      <td>0.414533</td>\n",
       "      <td>1</td>\n",
       "    </tr>\n",
       "  </tbody>\n",
       "</table>\n",
       "</div>"
      ],
      "text/plain": [
       "     zApplicantIncome  zCoapplicantIncome  zLoanAmount  zLoan_Amount_Term  \\\n",
       "533          0.884861           -0.521156     0.542111           0.296929   \n",
       "544         -0.389039           -0.303033    -0.513476           0.296929   \n",
       "41          -0.577347           -0.122086    -1.131107           0.296929   \n",
       "148          0.691448            0.026948     0.867771           0.296929   \n",
       "111         -0.402655            0.246387    -0.097979           0.296929   \n",
       "\n",
       "     zCredit_History  Loan_Status  \n",
       "533         0.414533            0  \n",
       "544         0.414533            1  \n",
       "41          0.414533            1  \n",
       "148         0.414533            0  \n",
       "111         0.414533            1  "
      ]
     },
     "execution_count": 43,
     "metadata": {},
     "output_type": "execute_result"
    }
   ],
   "source": [
    "validNorm.head()"
   ]
  },
  {
   "cell_type": "code",
   "execution_count": 44,
   "id": "0c82c4f3",
   "metadata": {},
   "outputs": [
    {
     "data": {
      "text/html": [
       "<div>\n",
       "<style scoped>\n",
       "    .dataframe tbody tr th:only-of-type {\n",
       "        vertical-align: middle;\n",
       "    }\n",
       "\n",
       "    .dataframe tbody tr th {\n",
       "        vertical-align: top;\n",
       "    }\n",
       "\n",
       "    .dataframe thead th {\n",
       "        text-align: right;\n",
       "    }\n",
       "</style>\n",
       "<table border=\"1\" class=\"dataframe\">\n",
       "  <thead>\n",
       "    <tr style=\"text-align: right;\">\n",
       "      <th></th>\n",
       "      <th>zApplicantIncome</th>\n",
       "      <th>zCoapplicantIncome</th>\n",
       "      <th>zLoanAmount</th>\n",
       "      <th>zLoan_Amount_Term</th>\n",
       "      <th>zCredit_History</th>\n",
       "      <th>Loan_Status</th>\n",
       "    </tr>\n",
       "  </thead>\n",
       "  <tbody>\n",
       "    <tr>\n",
       "      <th>0</th>\n",
       "      <td>0.049159</td>\n",
       "      <td>-0.521156</td>\n",
       "      <td>-0.221505</td>\n",
       "      <td>0.296929</td>\n",
       "      <td>0.414533</td>\n",
       "      <td>1</td>\n",
       "    </tr>\n",
       "    <tr>\n",
       "      <th>1</th>\n",
       "      <td>-0.146730</td>\n",
       "      <td>-0.025033</td>\n",
       "      <td>-0.221505</td>\n",
       "      <td>0.296929</td>\n",
       "      <td>0.414533</td>\n",
       "      <td>0</td>\n",
       "    </tr>\n",
       "    <tr>\n",
       "      <th>2</th>\n",
       "      <td>-0.391670</td>\n",
       "      <td>-0.521156</td>\n",
       "      <td>-0.917744</td>\n",
       "      <td>0.296929</td>\n",
       "      <td>0.414533</td>\n",
       "      <td>1</td>\n",
       "    </tr>\n",
       "    <tr>\n",
       "      <th>3</th>\n",
       "      <td>-0.456192</td>\n",
       "      <td>0.254612</td>\n",
       "      <td>-0.311343</td>\n",
       "      <td>0.296929</td>\n",
       "      <td>0.414533</td>\n",
       "      <td>1</td>\n",
       "    </tr>\n",
       "    <tr>\n",
       "      <th>4</th>\n",
       "      <td>0.072523</td>\n",
       "      <td>-0.521156</td>\n",
       "      <td>-0.075520</td>\n",
       "      <td>0.296929</td>\n",
       "      <td>0.414533</td>\n",
       "      <td>1</td>\n",
       "    </tr>\n",
       "  </tbody>\n",
       "</table>\n",
       "</div>"
      ],
      "text/plain": [
       "   zApplicantIncome  zCoapplicantIncome  zLoanAmount  zLoan_Amount_Term  \\\n",
       "0          0.049159           -0.521156    -0.221505           0.296929   \n",
       "1         -0.146730           -0.025033    -0.221505           0.296929   \n",
       "2         -0.391670           -0.521156    -0.917744           0.296929   \n",
       "3         -0.456192            0.254612    -0.311343           0.296929   \n",
       "4          0.072523           -0.521156    -0.075520           0.296929   \n",
       "\n",
       "   zCredit_History  Loan_Status  \n",
       "0         0.414533            1  \n",
       "1         0.414533            0  \n",
       "2         0.414533            1  \n",
       "3         0.414533            1  \n",
       "4         0.414533            1  "
      ]
     },
     "execution_count": 44,
     "metadata": {},
     "output_type": "execute_result"
    }
   ],
   "source": [
    "loanNorm.head()"
   ]
  },
  {
   "cell_type": "code",
   "execution_count": 45,
   "id": "421e3a13",
   "metadata": {},
   "outputs": [
    {
     "name": "stdout",
     "output_type": "stream",
     "text": [
      "newEntryNorm[Loan_Status] [1]\n",
      "Distances [[5.8183962  6.00516064 6.56686204]]\n",
      "Indices [[391 451 417]]\n",
      "     zApplicantIncome  zCoapplicantIncome  zLoanAmount  zLoan_Amount_Term  \\\n",
      "130          2.264443           -0.521156     5.640372           2.119331   \n",
      "561          2.158916           -0.521156     5.078889           0.296929   \n",
      "369          2.196980            1.211327     4.742000           0.296929   \n",
      "\n",
      "     zCredit_History  Loan_Status  \n",
      "130         0.414533            1  \n",
      "561         0.414533            1  \n",
      "369         0.414533            0  \n"
     ]
    }
   ],
   "source": [
    "# Applying KNN Model with applying K=3 for the training Data Set\n",
    "knn = KNeighborsClassifier(n_neighbors=3).fit(trainNorm[['zApplicantIncome', 'zCoapplicantIncome', 'zLoanAmount',\n",
    "       'zLoan_Amount_Term', 'zCredit_History']], trainNorm['Loan_Status'])\n",
    "distances, indices = knn.kneighbors(newEntryNorm)\n",
    "print('newEntryNorm[Loan_Status]',knn.predict(newEntryNorm))\n",
    "print('Distances',distances)\n",
    "print('Indices', indices)\n",
    "print(trainNorm.iloc[indices[0], :])"
   ]
  },
  {
   "cell_type": "code",
   "execution_count": 46,
   "id": "57146e38",
   "metadata": {},
   "outputs": [
    {
     "data": {
      "text/plain": [
       "0.8533604887983707"
      ]
     },
     "execution_count": 46,
     "metadata": {},
     "output_type": "execute_result"
    }
   ],
   "source": [
    "accuracy_score(trainNorm['Loan_Status'],knn.predict(trainNorm[['zApplicantIncome', 'zCoapplicantIncome', 'zLoanAmount',\n",
    "       'zLoan_Amount_Term', 'zCredit_History']]))"
   ]
  },
  {
   "cell_type": "code",
   "execution_count": 47,
   "id": "cf235c5b",
   "metadata": {},
   "outputs": [
    {
     "name": "stdout",
     "output_type": "stream",
     "text": [
      "Confusion Matrix (Accuracy 0.8534)\n",
      "\n",
      "       Prediction\n",
      "Actual   0   1\n",
      "     0 101  52\n",
      "     1  20 318\n"
     ]
    }
   ],
   "source": [
    "classificationSummary(trainNorm['Loan_Status'],knn.predict(trainNorm[['zApplicantIncome', 'zCoapplicantIncome', 'zLoanAmount',\n",
    "       'zLoan_Amount_Term', 'zCredit_History']]))"
   ]
  },
  {
   "cell_type": "code",
   "execution_count": 48,
   "id": "0fe4bef6",
   "metadata": {},
   "outputs": [
    {
     "data": {
      "text/plain": [
       "0.7886178861788617"
      ]
     },
     "execution_count": 48,
     "metadata": {},
     "output_type": "execute_result"
    }
   ],
   "source": [
    "accuracy_score(validNorm['Loan_Status'],knn.predict(validNorm[['zApplicantIncome', 'zCoapplicantIncome', 'zLoanAmount',\n",
    "       'zLoan_Amount_Term', 'zCredit_History']]))"
   ]
  },
  {
   "cell_type": "code",
   "execution_count": 49,
   "id": "4f07178a",
   "metadata": {},
   "outputs": [
    {
     "name": "stdout",
     "output_type": "stream",
     "text": [
      "Confusion Matrix (Accuracy 0.7886)\n",
      "\n",
      "       Prediction\n",
      "Actual  0  1\n",
      "     0 21 18\n",
      "     1  8 76\n"
     ]
    }
   ],
   "source": [
    "#classfication summary\n",
    "classificationSummary(validNorm['Loan_Status'],knn.predict(validNorm[['zApplicantIncome', 'zCoapplicantIncome', 'zLoanAmount',\n",
    "       'zLoan_Amount_Term', 'zCredit_History']]))"
   ]
  },
  {
   "cell_type": "code",
   "execution_count": 50,
   "id": "b4bcfe77",
   "metadata": {},
   "outputs": [
    {
     "name": "stdout",
     "output_type": "stream",
     "text": [
      "newEntryNorm[Personal Loan] [0]\n",
      "Distances [[8.75932985 8.87676712 9.23894039]]\n",
      "Indices [[ 99  59 113]]\n",
      "     zApplicantIncome  zCoapplicantIncome  zLoanAmount  zLoan_Amount_Term  \\\n",
      "260          0.085366            0.877069     2.046884           0.296929   \n",
      "34           1.078275            0.465826     1.934587           0.296929   \n",
      "9            1.131038            3.087252     2.260247           0.296929   \n",
      "\n",
      "     zCredit_History  Loan_Status  \n",
      "260         0.414533            1  \n",
      "34          0.414533            0  \n",
      "9           0.414533            0  \n"
     ]
    }
   ],
   "source": [
    "# applying KNN on the validation data\n",
    "knn = KNeighborsClassifier(n_neighbors=3).fit(validNorm[['zApplicantIncome', 'zCoapplicantIncome', 'zLoanAmount',\n",
    "       'zLoan_Amount_Term', 'zCredit_History']], validNorm['Loan_Status'])\n",
    "distances, indices = knn.kneighbors(newEntryNorm)\n",
    "print('newEntryNorm[Personal Loan]',knn.predict(newEntryNorm))\n",
    "print('Distances',distances)\n",
    "print('Indices', indices)\n",
    "print(validNorm.iloc[indices[0], :])"
   ]
  },
  {
   "cell_type": "code",
   "execution_count": 51,
   "id": "88a58096",
   "metadata": {},
   "outputs": [
    {
     "name": "stdout",
     "output_type": "stream",
     "text": [
      "     k  accuracy\n",
      "0    1  0.756098\n",
      "1    2  0.666667\n",
      "2    3  0.788618\n",
      "3    4  0.747967\n",
      "4    5  0.796748\n",
      "5    6  0.780488\n",
      "6    7  0.788618\n",
      "7    8  0.796748\n",
      "8    9  0.788618\n",
      "9   10  0.796748\n",
      "10  11  0.796748\n",
      "11  12  0.796748\n",
      "12  13  0.796748\n",
      "13  14  0.796748\n",
      "14  15  0.804878\n",
      "15  16  0.804878\n",
      "16  17  0.804878\n",
      "17  18  0.804878\n",
      "18  19  0.804878\n",
      "19  20  0.804878\n",
      "20  21  0.804878\n",
      "21  22  0.804878\n",
      "22  23  0.804878\n",
      "23  24  0.804878\n",
      "24  25  0.804878\n",
      "25  26  0.804878\n",
      "26  27  0.804878\n",
      "27  28  0.804878\n",
      "28  29  0.804878\n"
     ]
    }
   ],
   "source": [
    "## finding besk K by taking the accuracy scores using validation data\n",
    "train_X =trainNorm[['zApplicantIncome', 'zCoapplicantIncome', 'zLoanAmount',\n",
    "       'zLoan_Amount_Term', 'zCredit_History']]\n",
    "train_y = trainNorm['Loan_Status']\n",
    "valid_X = validNorm[['zApplicantIncome', 'zCoapplicantIncome', 'zLoanAmount',\n",
    "       'zLoan_Amount_Term', 'zCredit_History']]\n",
    "valid_y = validNorm['Loan_Status']\n",
    "\n",
    "# Train a classifier for different values of k\n",
    "results = []\n",
    "for k in range(1, 30):\n",
    "    knn = KNeighborsClassifier(n_neighbors=k).fit(train_X, train_y)\n",
    "    results.append({\n",
    "        'k': k,\n",
    "        'accuracy': accuracy_score(valid_y, knn.predict(valid_X))\n",
    "    })\n",
    "\n",
    "# Convert results to a pandas data frame\n",
    "results = pd.DataFrame(results)\n",
    "print(results)"
   ]
  },
  {
   "cell_type": "code",
   "execution_count": 52,
   "id": "7303d4e4",
   "metadata": {},
   "outputs": [
    {
     "name": "stdout",
     "output_type": "stream",
     "text": [
      "newEntryNorm[Loan_Status] [1]\n",
      "Distances [[5.8183962  6.00516064 6.56686204 6.85195984 7.01474444 7.31556849\n",
      "  7.35878829 7.58154919 7.66512501 7.88275936 8.06931306 8.24443287\n",
      "  8.47127249 8.55703927 8.66199622]]\n",
      "Indices [[391 451 417 229 380  28 164 370  92 371 166 329 186 319 434]]\n",
      "     zApplicantIncome  zCoapplicantIncome  zLoanAmount  zLoan_Amount_Term  \\\n",
      "130          2.264443           -0.521156     5.640372           2.119331   \n",
      "561          2.158916           -0.521156     5.078889           0.296929   \n",
      "369          2.196980            1.211327     4.742000           0.296929   \n",
      "604          1.000910           -0.521156     3.911006           0.296929   \n",
      "487          1.980821           -0.521156     3.955924           0.296929   \n",
      "308          2.274810           -0.521156     3.731331           0.296929   \n",
      "523          0.373939            1.836416     3.731331           0.296929   \n",
      "278          1.400580           -0.521156     3.237227           0.296929   \n",
      "506          2.367649            1.672248     3.731331           0.296929   \n",
      "432          1.136454           -0.521156     2.889108           0.296929   \n",
      "525          1.851930           -0.521156     2.832959           0.296929   \n",
      "177         -0.002366            3.196478     3.899776           0.296929   \n",
      "171          7.153479           -0.521156     6.201854          -0.614272   \n",
      "372          0.586695            2.069015     2.608366          -0.614272   \n",
      "126          2.827200           -0.521156     2.496070           0.296929   \n",
      "\n",
      "     zCredit_History  Loan_Status  \n",
      "130         0.414533            1  \n",
      "561         0.414533            1  \n",
      "369         0.414533            0  \n",
      "604         0.414533            1  \n",
      "487         0.414533            0  \n",
      "308         0.414533            0  \n",
      "523         0.414533            1  \n",
      "278         0.414533            1  \n",
      "506         0.414533            1  \n",
      "432         0.414533            1  \n",
      "525         0.414533            1  \n",
      "177        -2.412352            0  \n",
      "171         0.414533            1  \n",
      "372         0.414533            1  \n",
      "126         0.414533            1  \n"
     ]
    }
   ],
   "source": [
    "#With the best K =15\n",
    "# Applying KNN Model with applying K=3 for the training Data Set\n",
    "knn = KNeighborsClassifier(n_neighbors=15).fit(trainNorm[['zApplicantIncome', 'zCoapplicantIncome', 'zLoanAmount',\n",
    "       'zLoan_Amount_Term', 'zCredit_History']], trainNorm['Loan_Status'])\n",
    "distances, indices = knn.kneighbors(newEntryNorm)\n",
    "print('newEntryNorm[Loan_Status]',knn.predict(newEntryNorm))\n",
    "print('Distances',distances)\n",
    "print('Indices', indices)\n",
    "print(trainNorm.iloc[indices[0], :])"
   ]
  },
  {
   "cell_type": "code",
   "execution_count": 53,
   "id": "5f14ba1f",
   "metadata": {},
   "outputs": [
    {
     "data": {
      "text/plain": [
       "0.8126272912423625"
      ]
     },
     "execution_count": 53,
     "metadata": {},
     "output_type": "execute_result"
    }
   ],
   "source": [
    "accuracy_score(trainNorm['Loan_Status'],knn.predict(trainNorm[['zApplicantIncome', 'zCoapplicantIncome', 'zLoanAmount',\n",
    "       'zLoan_Amount_Term', 'zCredit_History']]))"
   ]
  },
  {
   "cell_type": "code",
   "execution_count": 54,
   "id": "12397c9a",
   "metadata": {},
   "outputs": [
    {
     "name": "stdout",
     "output_type": "stream",
     "text": [
      "Confusion Matrix (Accuracy 0.8126)\n",
      "\n",
      "       Prediction\n",
      "Actual   0   1\n",
      "     0  66  87\n",
      "     1   5 333\n"
     ]
    }
   ],
   "source": [
    "classificationSummary(trainNorm['Loan_Status'],knn.predict(trainNorm[['zApplicantIncome', 'zCoapplicantIncome', 'zLoanAmount',\n",
    "       'zLoan_Amount_Term', 'zCredit_History']]))"
   ]
  },
  {
   "cell_type": "code",
   "execution_count": 55,
   "id": "6ca3025b",
   "metadata": {},
   "outputs": [
    {
     "data": {
      "text/plain": [
       "0.8048780487804879"
      ]
     },
     "execution_count": 55,
     "metadata": {},
     "output_type": "execute_result"
    }
   ],
   "source": [
    "accuracy_score(validNorm['Loan_Status'],knn.predict(validNorm[['zApplicantIncome', 'zCoapplicantIncome', 'zLoanAmount',\n",
    "       'zLoan_Amount_Term', 'zCredit_History']]))"
   ]
  },
  {
   "cell_type": "code",
   "execution_count": 56,
   "id": "d619eafc",
   "metadata": {},
   "outputs": [
    {
     "name": "stdout",
     "output_type": "stream",
     "text": [
      "Confusion Matrix (Accuracy 0.8049)\n",
      "\n",
      "       Prediction\n",
      "Actual  0  1\n",
      "     0 16 23\n",
      "     1  1 83\n"
     ]
    }
   ],
   "source": [
    "classificationSummary(validNorm['Loan_Status'],knn.predict(validNorm[['zApplicantIncome', 'zCoapplicantIncome', 'zLoanAmount',\n",
    "       'zLoan_Amount_Term', 'zCredit_History']]))"
   ]
  },
  {
   "cell_type": "markdown",
   "id": "2a518f42",
   "metadata": {},
   "source": [
    "## Decision Tree Model"
   ]
  },
  {
   "cell_type": "code",
   "execution_count": 57,
   "id": "569283db",
   "metadata": {},
   "outputs": [],
   "source": [
    "loan_df_dt = loan_df_knn[['ApplicantIncome', 'CoapplicantIncome', 'LoanAmount',\n",
    "       'Loan_Amount_Term', 'Credit_History', 'Dependents', 'Education',\n",
    "       'Self_Employed','Loan_Status']]\n",
    "X = loan_df_knn[['ApplicantIncome', 'CoapplicantIncome', 'LoanAmount',\n",
    "       'Loan_Amount_Term', 'Credit_History']]\n",
    "y = loan_df_knn['Loan_Status']\n",
    "train_X,valid_X,train_y,valid_y = train_test_split(X,y,test_size = 0.2,random_state=3)"
   ]
  },
  {
   "cell_type": "code",
   "execution_count": 58,
   "id": "a9d4478f",
   "metadata": {},
   "outputs": [
    {
     "data": {
      "text/plain": [
       "array([0, 1], dtype=int64)"
      ]
     },
     "execution_count": 58,
     "metadata": {},
     "output_type": "execute_result"
    }
   ],
   "source": [
    "classTree = DecisionTreeClassifier(random_state=0, max_depth=1)\n",
    "classTree.fit(trainData.drop(columns=['Loan_Status']), trainData['Loan_Status'])\n",
    "\n",
    "classTree.classes_"
   ]
  },
  {
   "cell_type": "code",
   "execution_count": 59,
   "id": "d631eb26",
   "metadata": {},
   "outputs": [
    {
     "data": {
      "image/png": "[encoded data removed]",
      "text/plain": [
       "<IPython.core.display.Image object>"
      ]
     },
     "execution_count": 59,
     "metadata": {},
     "output_type": "execute_result"
    }
   ],
   "source": [
    "plotDecisionTree(classTree, feature_names=trainData.columns[:12], class_names=classTree.classes_)"
   ]
  },
  {
   "cell_type": "code",
   "execution_count": 60,
   "id": "b93855e9",
   "metadata": {},
   "outputs": [
    {
     "data": {
      "text/plain": [
       "DecisionTreeClassifier(max_depth=8, min_impurity_decrease=0.005,\n",
       "                       min_samples_split=50)"
      ]
     },
     "execution_count": 60,
     "metadata": {},
     "output_type": "execute_result"
    }
   ],
   "source": [
    "smallClassTree = DecisionTreeClassifier(max_depth=8, \n",
    "        min_impurity_decrease=0.005, min_samples_split=50)\n",
    "smallClassTree.fit(train_X, train_y)"
   ]
  },
  {
   "cell_type": "code",
   "execution_count": 61,
   "id": "e4bbf6c9",
   "metadata": {},
   "outputs": [
    {
     "name": "stdout",
     "output_type": "stream",
     "text": [
      "Small Classification Tree with Control Parameters\n"
     ]
    },
    {
     "data": {
      "image/png": "[encoded data removed]",
      "text/plain": [
       "<IPython.core.display.Image object>"
      ]
     },
     "execution_count": 61,
     "metadata": {},
     "output_type": "execute_result"
    }
   ],
   "source": [
    "print('Small Classification Tree with Control Parameters')\n",
    "plotDecisionTree(smallClassTree, feature_names=train_X.columns)"
   ]
  },
  {
   "cell_type": "code",
   "execution_count": 62,
   "id": "f6610895",
   "metadata": {},
   "outputs": [
    {
     "name": "stdout",
     "output_type": "stream",
     "text": [
      "Confusion Matrix (Accuracy 0.8024)\n",
      "\n",
      "       Prediction\n",
      "Actual   0   1\n",
      "     0  74  90\n",
      "     1   7 320\n"
     ]
    }
   ],
   "source": [
    "classificationSummary(train_y, smallClassTree.predict(train_X))"
   ]
  },
  {
   "cell_type": "code",
   "execution_count": 63,
   "id": "873be3c1",
   "metadata": {},
   "outputs": [
    {
     "name": "stdout",
     "output_type": "stream",
     "text": [
      "Confusion Matrix (Accuracy 0.8618)\n",
      "\n",
      "       Prediction\n",
      "Actual  0  1\n",
      "     0 12 16\n",
      "     1  1 94\n"
     ]
    }
   ],
   "source": [
    "classificationSummary(valid_y, smallClassTree.predict(valid_X))"
   ]
  },
  {
   "cell_type": "code",
   "execution_count": 69,
   "id": "5005ebe1",
   "metadata": {},
   "outputs": [
    {
     "name": "stdout",
     "output_type": "stream",
     "text": [
      "Initial score:  0.7942692228406514\n",
      "Initial parameters:  {'max_depth': 10, 'min_impurity_decrease': 0.005, 'min_samples_split': 20}\n",
      "Improved score:  0.7922490208204495\n",
      "Improved parameters:  {'max_depth': 2, 'min_impurity_decrease': 0.0009, 'min_samples_split': 10}\n"
     ]
    }
   ],
   "source": [
    "# Start with an initial guess for parameters\n",
    "param_grid = {\n",
    "    'max_depth': [10, 20, 30, 40], \n",
    "    'min_samples_split': [20, 40, 60, 80, 100], \n",
    "    'min_impurity_decrease': [0, 0.0005, 0.001, 0.005, 0.01], \n",
    "}\n",
    "gridSearch = GridSearchCV(DecisionTreeClassifier(), param_grid, cv=5, n_jobs=-1) #n_jobs=-1 means \n",
    "        #that the availalbe computer memory (CPU) will be used to make calculations faster. \n",
    "gridSearch.fit(train_X, train_y)\n",
    "print('Initial score: ', gridSearch.best_score_)\n",
    "print('Initial parameters: ', gridSearch.best_params_)\n",
    "\n",
    "# Adapt grid based on result from initial grid search\n",
    "param_grid = {\n",
    "    'max_depth': list(range(2, 16)), \n",
    "    'min_samples_split': list(range(10, 22)), \n",
    "    'min_impurity_decrease': [0.0009, 0.001, 0.0011], \n",
    "}\n",
    "gridSearch = GridSearchCV(DecisionTreeClassifier(), param_grid, cv=5, n_jobs=-1)\n",
    "gridSearch.fit(train_X, train_y)\n",
    "print('Improved score: ', gridSearch.best_score_)\n",
    "print('Improved parameters: ', gridSearch.best_params_)\n",
    "\n",
    "bestClassTree = gridSearch.best_estimator_"
   ]
  },
  {
   "cell_type": "code",
   "execution_count": 70,
   "id": "fbaab230",
   "metadata": {},
   "outputs": [
    {
     "data": {
      "image/png": "[encoded data removed]",
      "text/plain": [
       "<IPython.core.display.Image object>"
      ]
     },
     "execution_count": 70,
     "metadata": {},
     "output_type": "execute_result"
    }
   ],
   "source": [
    "plotDecisionTree(bestClassTree, feature_names=train_X.columns)"
   ]
  },
  {
   "cell_type": "code",
   "execution_count": 71,
   "id": "fd1b60f8",
   "metadata": {},
   "outputs": [
    {
     "name": "stdout",
     "output_type": "stream",
     "text": [
      "Confusion Matrix (Accuracy 0.8045)\n",
      "\n",
      "       Prediction\n",
      "Actual   0   1\n",
      "     0  74  90\n",
      "     1   6 321\n",
      "Confusion Matrix (Accuracy 0.8537)\n",
      "\n",
      "       Prediction\n",
      "Actual  0  1\n",
      "     0 11 17\n",
      "     1  1 94\n"
     ]
    }
   ],
   "source": [
    "classificationSummary(train_y, bestClassTree.predict(train_X))\n",
    "classificationSummary(valid_y, bestClassTree.predict(valid_X))"
   ]
  },
  {
   "cell_type": "markdown",
   "id": "58803357",
   "metadata": {},
   "source": [
    "# Random Forest Classifier"
   ]
  },
  {
   "cell_type": "code",
   "execution_count": 72,
   "id": "871bb757",
   "metadata": {},
   "outputs": [
    {
     "data": {
      "text/plain": [
       "RandomForestClassifier(n_estimators=300, random_state=5)"
      ]
     },
     "execution_count": 72,
     "metadata": {},
     "output_type": "execute_result"
    }
   ],
   "source": [
    "rf = RandomForestClassifier(n_estimators=300, random_state=5)\n",
    "rf.fit(train_X, train_y)"
   ]
  },
  {
   "cell_type": "code",
   "execution_count": 73,
   "id": "b1676322",
   "metadata": {},
   "outputs": [
    {
     "name": "stdout",
     "output_type": "stream",
     "text": [
      "             feature  importance       std\n",
      "3   Loan_Amount_Term    0.052561  0.018286\n",
      "1  CoapplicantIncome    0.151512  0.033683\n",
      "2         LoanAmount    0.230008  0.040419\n",
      "4     Credit_History    0.277926  0.040219\n",
      "0    ApplicantIncome    0.287993  0.043176\n"
     ]
    },
    {
     "data": {
      "image/png": "[encoded data removed]",
      "text/plain": [
       "<Figure size 640x480 with 1 Axes>"
      ]
     },
     "metadata": {},
     "output_type": "display_data"
    }
   ],
   "source": [
    "importances = rf.feature_importances_\n",
    "std = np.std([tree.feature_importances_ for tree in rf.estimators_], axis=0)\n",
    "\n",
    "df = pd.DataFrame({'feature': train_X.columns, 'importance': importances, 'std': std})\n",
    "df = df.sort_values('importance')\n",
    "print(df)\n",
    "\n",
    "ax = df.plot(kind='barh', xerr='std', x='feature', legend=False)\n",
    "ax.set_ylabel('')\n",
    "\n",
    "plt.tight_layout()\n",
    "plt.show()"
   ]
  },
  {
   "cell_type": "code",
   "execution_count": 74,
   "id": "2d275837",
   "metadata": {},
   "outputs": [
    {
     "name": "stdout",
     "output_type": "stream",
     "text": [
      "Confusion Matrix (Accuracy 0.8455)\n",
      "\n",
      "       Prediction\n",
      "Actual  0  1\n",
      "     0 17 11\n",
      "     1  8 87\n"
     ]
    }
   ],
   "source": [
    "classificationSummary(valid_y, rf.predict(valid_X))"
   ]
  },
  {
   "cell_type": "markdown",
   "id": "7c7ce625",
   "metadata": {},
   "source": [
    "# Logistic Regression"
   ]
  },
  {
   "cell_type": "code",
   "execution_count": 75,
   "id": "740e7d09",
   "metadata": {},
   "outputs": [],
   "source": [
    "# Logistic Regression\n",
    "loan_df_lr = loan_df_knn"
   ]
  },
  {
   "cell_type": "code",
   "execution_count": 76,
   "id": "334107ba",
   "metadata": {},
   "outputs": [
    {
     "data": {
      "text/plain": [
       "Index(['Gender', 'Married', 'Dependents', 'Education', 'Self_Employed',\n",
       "       'ApplicantIncome', 'CoapplicantIncome', 'LoanAmount',\n",
       "       'Loan_Amount_Term', 'Credit_History', 'Loan_Status',\n",
       "       'Property_Area_Semiurban', 'Property_Area_Urban'],\n",
       "      dtype='object')"
      ]
     },
     "execution_count": 76,
     "metadata": {},
     "output_type": "execute_result"
    }
   ],
   "source": [
    "loan_df_lr.columns"
   ]
  },
  {
   "cell_type": "code",
   "execution_count": 77,
   "id": "a83971c4",
   "metadata": {},
   "outputs": [],
   "source": [
    "X = loan_df_lr[['ApplicantIncome', 'CoapplicantIncome', 'LoanAmount', 'Credit_History']]\n",
    "y = loan_df_lr['Loan_Status']\n",
    "\n",
    "\n",
    "# partioning the data\n",
    "train_X,valid_X,train_y,valid_y = train_test_split(X,y,test_size = 0.2,random_state=3)"
   ]
  },
  {
   "cell_type": "code",
   "execution_count": 78,
   "id": "8ad529fe",
   "metadata": {},
   "outputs": [
    {
     "name": "stdout",
     "output_type": "stream",
     "text": [
      "intercept  -2.1479911417807767\n",
      "       ApplicantIncome  CoapplicantIncome  LoanAmount  Credit_History\n",
      "coeff         0.000016          -0.000049   -0.001016        3.521392\n",
      "\n",
      "AIC 117.64544477645669\n"
     ]
    }
   ],
   "source": [
    "logit_reg = LogisticRegression(penalty=\"l2\", C=1e42, solver='liblinear')\n",
    "logit_reg.fit(train_X, train_y)\n",
    "\n",
    "#Get intercepts, coefficients, and AIC\n",
    "print('intercept ', logit_reg.intercept_[0])\n",
    "print(pd.DataFrame({'coeff': logit_reg.coef_[0]}, index=X.columns).transpose())\n",
    "print() #Creates a Line space\n",
    "print('AIC', AIC_score(valid_y, logit_reg.predict(valid_X), df = len(train_X.columns) + 1))"
   ]
  },
  {
   "cell_type": "code",
   "execution_count": 79,
   "id": "5db3578b",
   "metadata": {},
   "outputs": [
    {
     "data": {
      "text/html": [
       "<div>\n",
       "<style scoped>\n",
       "    .dataframe tbody tr th:only-of-type {\n",
       "        vertical-align: middle;\n",
       "    }\n",
       "\n",
       "    .dataframe tbody tr th {\n",
       "        vertical-align: top;\n",
       "    }\n",
       "\n",
       "    .dataframe thead th {\n",
       "        text-align: right;\n",
       "    }\n",
       "</style>\n",
       "<table border=\"1\" class=\"dataframe\">\n",
       "  <thead>\n",
       "    <tr style=\"text-align: right;\">\n",
       "      <th></th>\n",
       "      <th>actual</th>\n",
       "      <th>p(0)</th>\n",
       "      <th>p(1)</th>\n",
       "      <th>predicted</th>\n",
       "    </tr>\n",
       "  </thead>\n",
       "  <tbody>\n",
       "    <tr>\n",
       "      <th>455</th>\n",
       "      <td>1</td>\n",
       "      <td>0.207779</td>\n",
       "      <td>0.792221</td>\n",
       "      <td>1</td>\n",
       "    </tr>\n",
       "    <tr>\n",
       "      <th>132</th>\n",
       "      <td>1</td>\n",
       "      <td>0.206476</td>\n",
       "      <td>0.793524</td>\n",
       "      <td>1</td>\n",
       "    </tr>\n",
       "    <tr>\n",
       "      <th>244</th>\n",
       "      <td>1</td>\n",
       "      <td>0.252129</td>\n",
       "      <td>0.747871</td>\n",
       "      <td>1</td>\n",
       "    </tr>\n",
       "    <tr>\n",
       "      <th>53</th>\n",
       "      <td>0</td>\n",
       "      <td>0.212150</td>\n",
       "      <td>0.787850</td>\n",
       "      <td>1</td>\n",
       "    </tr>\n",
       "    <tr>\n",
       "      <th>264</th>\n",
       "      <td>1</td>\n",
       "      <td>0.209653</td>\n",
       "      <td>0.790347</td>\n",
       "      <td>1</td>\n",
       "    </tr>\n",
       "  </tbody>\n",
       "</table>\n",
       "</div>"
      ],
      "text/plain": [
       "     actual      p(0)      p(1)  predicted\n",
       "455       1  0.207779  0.792221          1\n",
       "132       1  0.206476  0.793524          1\n",
       "244       1  0.252129  0.747871          1\n",
       "53        0  0.212150  0.787850          1\n",
       "264       1  0.209653  0.790347          1"
      ]
     },
     "execution_count": 79,
     "metadata": {},
     "output_type": "execute_result"
    }
   ],
   "source": [
    "logit_reg_pred = logit_reg.predict(valid_X)\n",
    "logit_reg_proba = logit_reg.predict_proba(valid_X)\n",
    "logit_result = pd.DataFrame({'actual': valid_y, \n",
    "                             'p(0)': [p[0] for p in logit_reg_proba],\n",
    "                             'p(1)': [p[1] for p in logit_reg_proba],\n",
    "                             'predicted': logit_reg_pred })\n",
    "logit_result.head()"
   ]
  },
  {
   "cell_type": "code",
   "execution_count": 80,
   "id": "03e379b8",
   "metadata": {},
   "outputs": [
    {
     "name": "stdout",
     "output_type": "stream",
     "text": [
      "Confusion Matrix (Accuracy 0.8004)\n",
      "\n",
      "       Prediction\n",
      "Actual   0   1\n",
      "     0  72  92\n",
      "     1   6 321\n"
     ]
    }
   ],
   "source": [
    "classificationSummary(train_y,logit_reg.predict(train_X))"
   ]
  },
  {
   "cell_type": "code",
   "execution_count": 81,
   "id": "a59fcb43",
   "metadata": {},
   "outputs": [
    {
     "name": "stdout",
     "output_type": "stream",
     "text": [
      "Confusion Matrix (Accuracy 0.8618)\n",
      "\n",
      "       Prediction\n",
      "Actual  0  1\n",
      "     0 12 16\n",
      "     1  1 94\n"
     ]
    }
   ],
   "source": [
    "classificationSummary(valid_y, logit_reg_pred)"
   ]
  }
 ],
 "metadata": {
  "kernelspec": {
   "display_name": "Python 3 (ipykernel)",
   "language": "python",
   "name": "python3"
  },
  "language_info": {
   "codemirror_mode": {
    "name": "ipython",
    "version": 3
   },
   "file_extension": ".py",
   "mimetype": "text/x-python",
   "name": "python",
   "nbconvert_exporter": "python",
   "pygments_lexer": "ipython3",
   "version": "3.9.18"
  }
 },
 "nbformat": 4,
 "nbformat_minor": 5
}
